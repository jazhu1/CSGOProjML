{
  "cells": [
    {
      "cell_type": "code",
      "execution_count": 3,
      "metadata": {
        "id": "RJaFFXEpjS54"
      },
      "outputs": [
        {
          "name": "stdout",
          "output_type": "stream",
          "text": [
            "WARNING:tensorflow:From C:\\Users\\james\\AppData\\Local\\Packages\\PythonSoftwareFoundation.Python.3.11_qbz5n2kfra8p0\\LocalCache\\local-packages\\Python311\\site-packages\\keras\\src\\losses.py:2976: The name tf.losses.sparse_softmax_cross_entropy is deprecated. Please use tf.compat.v1.losses.sparse_softmax_cross_entropy instead.\n",
            "\n"
          ]
        }
      ],
      "source": [
        "import pandas as pd\n",
        "import xgboost as xgb\n",
        "from sklearn.metrics import accuracy_score, classification_report\n",
        "import re\n",
        "import numpy as np\n",
        "from sklearn.feature_selection import SelectKBest, f_regression\n",
        "from sklearn.preprocessing import LabelEncoder\n",
        "from sklearn.linear_model import LogisticRegression\n",
        "from sklearn.ensemble import RandomForestClassifier\n",
        "from sklearn.model_selection import RandomizedSearchCV, train_test_split\n",
        "from xgboost import XGBClassifier\n",
        "from scipy.stats import uniform, randint\n",
        "import matplotlib.pyplot as plt\n",
        "from sklearn.neighbors import KNeighborsClassifier\n",
        "from sklearn.preprocessing import MinMaxScaler\n",
        "from sklearn.feature_selection import RFE\n",
        "import seaborn as sns\n",
        "from sklearn.metrics import confusion_matrix\n",
        "from tensorflow.keras.models import Sequential\n",
        "from tensorflow.keras.layers import Dense\n",
        "from tensorflow.keras.callbacks import EarlyStopping"
      ]
    },
    {
      "cell_type": "code",
      "execution_count": 2,
      "metadata": {
        "id": "I5nThTaUSN3d"
      },
      "outputs": [],
      "source": [
        "#csv's to combine\n",
        "\n",
        "df_players = pd.read_csv('Players - Sheet1.csv')\n",
        "df_past3 = pd.read_csv('Past 3 Months Statistics - Sheet1.csv')\n",
        "df_all = pd.read_csv('All Time Statistics - Sheet1.csv')"
      ]
    },
    {
      "cell_type": "code",
      "execution_count": 3,
      "metadata": {
        "id": "M4kb5gNYZe7p"
      },
      "outputs": [],
      "source": [
        "#cleaning Players csv"
      ]
    },
    {
      "cell_type": "code",
      "execution_count": 4,
      "metadata": {
        "id": "XpdOg9XXS0C1"
      },
      "outputs": [],
      "source": [
        "selected_columns = ['Team 1','Player Full Name', 'Player', 'KD', 'KD Diff', 'ADR', 'KAST', 'Rating']\n",
        "df_players1 = df_players[selected_columns]\n",
        "selected_columns1 = ['Team 2','Player Full Name.1', 'Player.1', 'KD.1', 'KD Diff.1', 'ADR.1', 'KAST.1', 'Rating.1']\n",
        "df_players2 = df_players[selected_columns1]\n",
        "selected_columns2 = ['Team 1']\n",
        "df_team1 = df_players[selected_columns2]\n",
        "selected_columns3 = ['Team 1']\n",
        "df_team2 = df_players[selected_columns3]"
      ]
    },
    {
      "cell_type": "code",
      "execution_count": 5,
      "metadata": {
        "id": "Ecqb68aBT8W_"
      },
      "outputs": [],
      "source": [
        "df_players2 = df_players2.dropna()\n",
        "df_players1 = df_players1.dropna()\n",
        "df_players1 = df_players1.drop_duplicates()\n",
        "df_players2 = df_players2.reset_index(drop=True)\n",
        "df_players2 = df_players2.drop(3205)\n",
        "df_players2 = df_players2.drop(3214)\n",
        "df_players2 = df_players2.reset_index(drop=True)\n",
        "df_players2 = df_players2.drop(3964)\n",
        "df_players2 = df_players2.reset_index(drop=True)\n",
        "df_players1 = df_players1.reset_index(drop=True)\n",
        "df_players1 = df_players1.drop(2249)\n",
        "df_players1 = df_players1.drop(3229)\n",
        "df_players1 = df_players1.reset_index(drop=True)"
      ]
    },
    {
      "cell_type": "code",
      "execution_count": null,
      "metadata": {
        "id": "litnuMTYoMHf"
      },
      "outputs": [],
      "source": []
    },
    {
      "cell_type": "code",
      "execution_count": 6,
      "metadata": {
        "id": "XZEsjRlUoMDW"
      },
      "outputs": [],
      "source": [
        "# Quality Control"
      ]
    },
    {
      "cell_type": "code",
      "execution_count": 7,
      "metadata": {
        "id": "g6bXCRCCmL0c"
      },
      "outputs": [],
      "source": [
        "# row_3205 = df_players2.iloc[3965]  # Note that Python uses 0-based indexing, so row 3205 is at index 3204\n",
        "\n",
        "# print(\"Row 3205:\")\n",
        "# print(row_3205)"
      ]
    },
    {
      "cell_type": "code",
      "execution_count": 8,
      "metadata": {
        "id": "hp3JXpdb_iT6"
      },
      "outputs": [],
      "source": [
        "# df_players2['IsDifferent'] = df_players2['Team 2'] != df_players2['Team 2'].shift()\n",
        "\n",
        "# # Find the rows where 'IsDifferent' is True\n",
        "# rows_with_differences1 = df_players2[df_players2['IsDifferent']]\n",
        "\n",
        "# # Examine the 'Team 2' values for these rows to identify the three rows that are different\n",
        "# print(rows_with_differences1['Team 2'])\n"
      ]
    },
    {
      "cell_type": "code",
      "execution_count": 9,
      "metadata": {
        "id": "WRG5phQk_rkk"
      },
      "outputs": [],
      "source": [
        "# rows_with_differences1"
      ]
    },
    {
      "cell_type": "code",
      "execution_count": 10,
      "metadata": {
        "id": "X-azJ92a_uar"
      },
      "outputs": [],
      "source": [
        "# for index, row in rows_with_differences1.iterrows():\n",
        "#     # Check if the index does not end in 0 or 5\n",
        "#     if index % 10 != 0 and index % 10 != 5:\n",
        "#         print(f\"First instance where the row index does not end in 0 or 5 is at index {index}\")\n",
        "#         break"
      ]
    },
    {
      "cell_type": "code",
      "execution_count": 11,
      "metadata": {
        "id": "1MOR3TkyjrYK"
      },
      "outputs": [],
      "source": [
        "# row_3205 = df_players2.iloc[3205]  # Note that Python uses 0-based indexing, so row 3205 is at index 3204\n",
        "\n",
        "# print(\"Row 3205:\")\n",
        "# print(row_3205)"
      ]
    },
    {
      "cell_type": "code",
      "execution_count": 12,
      "metadata": {
        "id": "dkbsxrnLjS8J"
      },
      "outputs": [],
      "source": [
        "# start_index = 3210  # 2206 - 5\n",
        "# end_index = 3222  # 2206 + 5\n",
        "\n",
        "# # Extract the desired rows from the DataFrame\n",
        "# desired_rows = df_players2.iloc[start_index:end_index + 1]\n",
        "\n",
        "# # Print the extracted rows\n",
        "# print(desired_rows)"
      ]
    },
    {
      "cell_type": "code",
      "execution_count": 13,
      "metadata": {
        "id": "KSAcXgiWg4u3"
      },
      "outputs": [],
      "source": [
        "# start_index = 3210  # 2206 - 5\n",
        "# end_index = 3222  # 2206 + 5\n",
        "\n",
        "# # Extract the desired rows from the DataFrame\n",
        "# desired_rows = df_players2.iloc[start_index:end_index + 1]\n",
        "\n",
        "# # Print the extracted rows\n",
        "# print(desired_rows)"
      ]
    },
    {
      "cell_type": "code",
      "execution_count": 14,
      "metadata": {
        "id": "VhN_cnHr_zL2"
      },
      "outputs": [],
      "source": [
        "# start_index = 3956  # 2206 - 5\n",
        "# end_index = 3976  # 2206 + 5\n",
        "\n",
        "# # Extract the desired rows from the DataFrame\n",
        "# desired_rows = df_players2.iloc[start_index:end_index + 1]\n",
        "\n",
        "# # Print the extracted rows\n",
        "# print(desired_rows)"
      ]
    },
    {
      "cell_type": "code",
      "execution_count": 15,
      "metadata": {
        "id": "sSRe9k4quF2s"
      },
      "outputs": [],
      "source": [
        "# df_players1['IsDifferent'] = df_players1['Team 1'] != df_players1['Team 1'].shift()\n",
        "\n",
        "# # Find the rows where 'IsDifferent' is True\n",
        "# rows_with_differences = df_players1[df_players1['IsDifferent']]\n",
        "\n",
        "# # examine the 'Team 1' values for these rows to identify the three rows that are different\n",
        "# print(rows_with_differences['Team 1'])\n",
        "\n"
      ]
    },
    {
      "cell_type": "code",
      "execution_count": 16,
      "metadata": {
        "id": "e3NfRl2-vLAH"
      },
      "outputs": [],
      "source": [
        "# for index, row in rows_with_differences.iterrows():\n",
        "#     # Check if the index does not end in 0 or 5\n",
        "#     if index % 10 != 0 and index % 10 != 5:\n",
        "#         print(f\"First instance where the row index does not end in 0 or 5 is at index {index}\")\n",
        "#         break"
      ]
    },
    {
      "cell_type": "code",
      "execution_count": 17,
      "metadata": {
        "id": "Q8jm2uGChr-6"
      },
      "outputs": [],
      "source": [
        "# start_index = 2246  # 2206 - 5\n",
        "# end_index = 2256 # 2206 + 5\n",
        "\n",
        "# # Extract the desired rows from the DataFrame\n",
        "# desired_rows = df_players1.iloc[start_index:end_index + 1]\n",
        "\n",
        "# # Print the extracted rows\n",
        "# print(desired_rows)"
      ]
    },
    {
      "cell_type": "code",
      "execution_count": 18,
      "metadata": {
        "id": "xDIR2gXO8tbP"
      },
      "outputs": [],
      "source": [
        "# start_index = 3221  # 2206 - 5\n",
        "# end_index = 3241 # 2206 + 5\n",
        "\n",
        "# # Extract the desired rows from the DataFrame\n",
        "# desired_rows = df_players1.iloc[start_index:end_index + 1]\n",
        "\n",
        "# # Print the extracted rows\n",
        "# print(desired_rows)"
      ]
    },
    {
      "cell_type": "code",
      "execution_count": 19,
      "metadata": {
        "id": "VzrQ0jrRVwPR"
      },
      "outputs": [],
      "source": [
        "new_column_names = {\n",
        "    'Player Full Name.1': 'Player Full Name',\n",
        "    'Player.1': 'Player',\n",
        "    'KD.1': 'KD',\n",
        "    'KD Diff.1': 'KD Diff',\n",
        "    'ADR.1': 'ADR',\n",
        "    'KAST.1': 'KAST',\n",
        "    'Rating.1': 'Rating'\n",
        "}\n",
        "\n",
        "df_players2 = df_players2.rename(columns=new_column_names)"
      ]
    },
    {
      "cell_type": "code",
      "execution_count": null,
      "metadata": {
        "colab": {
          "base_uri": "https://localhost:8080/"
        },
        "id": "3cwX3vQ2jCfb",
        "outputId": "f5dd44b0-6f1a-44a3-9c9e-a76c1a8ae720"
      },
      "outputs": [],
      "source": [
        "chunks1 = [df_players1[i:i+5] for i in range(0, len(df_players1), 5)]\n",
        "chunks2 = [df_players2[i:i+5] for i in range(0, len(df_players2), 5)]\n",
        "\n",
        "df_total = pd.DataFrame(columns=['Player'])\n",
        "\n",
        "# Interleave the chunks from df_players1 and df_players2\n",
        "for chunk1, chunk2 in zip(chunks1, chunks2):\n",
        "    df_total = df_total.append(chunk1, ignore_index=True)\n",
        "    df_total = df_total.append(chunk2, ignore_index=True)"
      ]
    },
    {
      "cell_type": "code",
      "execution_count": 21,
      "metadata": {
        "id": "3-sT0y04VRHf"
      },
      "outputs": [],
      "source": [
        "#combining scoreboards so that team 1 is first 5 rows and team 2 are next 5\n",
        "combined_dfs1 = []\n",
        "\n",
        "# Set the chunk size\n",
        "chunk_size = 5\n",
        "\n",
        "# Iterate over the range of dataframe sizes\n",
        "for i in range(0, max(len(df_players1), len(df_players2)), chunk_size):\n",
        "    combined_dfs1.append(df_players1[i:i+chunk_size])\n",
        "    combined_dfs1.append(df_players2[i:i+chunk_size])\n",
        "\n",
        "# Concatenate the list of dataframes into a single dataframe\n",
        "combined_df1 = pd.concat(combined_dfs1, ignore_index=True)"
      ]
    },
    {
      "cell_type": "code",
      "execution_count": null,
      "metadata": {
        "colab": {
          "base_uri": "https://localhost:8080/"
        },
        "id": "4ZCTYbo_ZZSG",
        "outputId": "6edcb7d5-b570-455a-8670-181cc041ddeb"
      },
      "outputs": [],
      "source": [
        "combined_df1['Team 1'].fillna(combined_df1['Team 2'], inplace=True)\n",
        "combined_df1.drop(columns=['Team 2'], inplace=True)\n",
        "df_teams = combined_df1[['Team 1']]\n",
        "df_teams['Team'] = df_teams['Team 1'].str.split('\\n').str[0]\n",
        "\n",
        "df_teams['Team'] = df_teams['Team'].str.strip()\n",
        "df_teams['Score'] = df_teams['Team 1'].str.split('\\n').str[2]\n",
        "\n",
        "df_teams['Score'] = df_teams['Score'].str.strip()\n",
        "\n",
        "df_teams = df_teams.drop('Team 1', axis=1)\n",
        "merged_df = combined_df1.merge(df_teams, left_index=True, right_index=True)\n",
        "merged_df = merged_df.drop('Team 1', axis=1)\n",
        "merged_df[['Kills', 'Deaths']] = merged_df['KD'].str.split('-', expand=True)"
      ]
    },
    {
      "cell_type": "code",
      "execution_count": 23,
      "metadata": {
        "colab": {
          "base_uri": "https://localhost:8080/"
        },
        "id": "D8CAOa3Nd8wi",
        "outputId": "1cad8fe4-9174-4630-de29-94f092565c03"
      },
      "outputs": [
        {
          "name": "stdout",
          "output_type": "stream",
          "text": [
            "Empty DataFrame\n",
            "Columns: [Player Full Name, Player, KD, KD Diff, ADR, KAST, Rating, Team, Score, Kills, Deaths]\n",
            "Index: []\n"
          ]
        }
      ],
      "source": [
        "# Find rows with NaN values in merged_df\n",
        "nan_rows = merged_df[merged_df.isna().any(axis=1)]\n",
        "\n",
        "# Display the rows with NaN values\n",
        "print(nan_rows)\n"
      ]
    },
    {
      "cell_type": "code",
      "execution_count": 24,
      "metadata": {
        "id": "DwCe_bhieVFZ"
      },
      "outputs": [],
      "source": [
        "# merged_df = merged_df.drop(4410)"
      ]
    },
    {
      "cell_type": "code",
      "execution_count": 25,
      "metadata": {
        "id": "7sQkCHKteZ93"
      },
      "outputs": [],
      "source": [
        "# # Convert the resulting columns to integers\n",
        "merged_df['Kills'] = merged_df['Kills'].astype(int)\n",
        "merged_df['Deaths'] = merged_df['Deaths'].astype(int)\n",
        "\n",
        "# # Drop the original 'KD' column\n",
        "merged_df = merged_df.drop('KD', axis=1)"
      ]
    },
    {
      "cell_type": "code",
      "execution_count": 26,
      "metadata": {
        "id": "910PYIQVjzMI"
      },
      "outputs": [],
      "source": [
        "#cleaning df_past3"
      ]
    },
    {
      "cell_type": "code",
      "execution_count": 27,
      "metadata": {
        "colab": {
          "base_uri": "https://localhost:8080/"
        },
        "id": "rCwFOzRGkytF",
        "outputId": "70e41f49-33eb-4f88-ad87-b50d323ded32"
      },
      "outputs": [],
      "source": [
        "#cleaning past 3 months stats csv\n",
        "df_past3['Rating 2.0'] = df_past3['Rating 2.0'].str.replace('Rating 2.0\\n', '')\n",
        "df_past3['KPR'] = df_past3['KPR'].str.replace('Kills per round\\n', '')\n",
        "df_past3['HS'] = df_past3['HS'].str.replace('Headshots\\n', '')\n",
        "df_past3['Maps Played'] = df_past3['Maps Played'].str.replace('Maps played\\n', '')\n",
        "df_past3['DPR'] = df_past3['DPR'].str.replace('Deaths per round\\n', '')\n",
        "df_past3['Rounds Contributed'] = df_past3['Rounds Contributed'].str.replace('Rounds contributed\\n', '')"
      ]
    },
    {
      "cell_type": "code",
      "execution_count": 28,
      "metadata": {
        "id": "3eNShej0mjk3"
      },
      "outputs": [],
      "source": [
        "#combining scoreboard and past 3 months stats based on player\n",
        "df_withpast3 = merged_df.merge(df_past3, on=\"Player\", how=\"left\")\n",
        "df_withpast3 = df_withpast3.drop('Player Full Name', axis = 1)"
      ]
    },
    {
      "cell_type": "code",
      "execution_count": 29,
      "metadata": {
        "id": "zk-TFmuT7Vz_"
      },
      "outputs": [],
      "source": [
        "#cleaning df_all"
      ]
    },
    {
      "cell_type": "code",
      "execution_count": 30,
      "metadata": {
        "id": "4sVNA_1OtqLQ"
      },
      "outputs": [],
      "source": [
        "#fixing first 2 columns\n",
        "df_test = df_all[['Field1', 'Field2']]"
      ]
    },
    {
      "cell_type": "code",
      "execution_count": 31,
      "metadata": {
        "id": "Mw5RkMYctw5M"
      },
      "outputs": [],
      "source": [
        "# Create an index for the new DataFrame\n",
        "new_index = range(len(df_test) // 2)\n",
        "\n",
        "# Split the values in column 2 into two columns in the new DataFrame\n",
        "df_12 = pd.DataFrame({'Field1': df_test['Field2'][::2].values, 'Field2': df_test['Field2'][1::2].values}, index=new_index)\n",
        "df_12 = df_12.rename(columns={\"Field1\": \"Rounds played\", \"Field2\": \"Total kills\"})"
      ]
    },
    {
      "cell_type": "code",
      "execution_count": 32,
      "metadata": {
        "id": "m3JqiNx2vCrn"
      },
      "outputs": [],
      "source": [
        "#fixing next 2 columns\n",
        "df_test1 = df_all[['Field3', 'Time']]"
      ]
    },
    {
      "cell_type": "code",
      "execution_count": 33,
      "metadata": {
        "id": "a4rSNqKWvVF0"
      },
      "outputs": [],
      "source": [
        "new_index = range(len(df_test1) // 2)\n",
        "df_13 = pd.DataFrame({'Field3': df_test1['Time'][::2].values, 'Time': df_test1['Time'][1::2].values}, index=new_index)\n",
        "df_13 = df_13.rename(columns={\"Field3\": \"Headshot %\", \"Time\": \"Kills / round\"})"
      ]
    },
    {
      "cell_type": "code",
      "execution_count": 34,
      "metadata": {
        "id": "E4-_EQw_vqkK"
      },
      "outputs": [],
      "source": [
        "#fixing Field4\tField5\n",
        "df_test2 = df_all[['Field4', 'Field5']]"
      ]
    },
    {
      "cell_type": "code",
      "execution_count": 35,
      "metadata": {
        "id": "42YAGoEIvxRZ"
      },
      "outputs": [],
      "source": [
        "new_index = range(len(df_test2) // 2)\n",
        "df_13 = pd.DataFrame({'Field4': df_test2['Field5'][::2].values, 'Field5': df_test2['Field5'][1::2].values}, index=new_index)\n",
        "df_13 = df_13.rename(columns={\"Field4\": \"Total deaths\", \"Field5\": \"Assists / round\"})"
      ]
    },
    {
      "cell_type": "code",
      "execution_count": 36,
      "metadata": {
        "id": "NaqFsTevv_oO"
      },
      "outputs": [],
      "source": [
        "#fixing Field6\tTime1\n",
        "df_test3 = df_all[['Field6', 'Time1']]\n",
        "new_index = range(len(df_test3) // 2)\n",
        "df_14 = pd.DataFrame({'Field6': df_test3['Time1'][::2].values, 'Time1': df_test3['Time1'][1::2].values}, index=new_index)\n",
        "df_14 = df_14.rename(columns={\"Field6\": \"KD ratio\", \"Time1\": \"Deaths / round\"})"
      ]
    },
    {
      "cell_type": "code",
      "execution_count": 37,
      "metadata": {
        "id": "imhEJZ9lwTy6"
      },
      "outputs": [],
      "source": [
        "#fixing Field7\tTime2\n",
        "df_test4 = df_all[['Field7', 'Time2']]\n",
        "new_index = range(len(df_test4) // 2)\n",
        "df_15 = pd.DataFrame({'Field7': df_test4['Time2'][::2].values, 'Time2': df_test4['Time2'][1::2].values}, index=new_index)\n",
        "df_15 = df_15.rename(columns={\"Field7\": \"Damage / round\", \"Time2\": \"Saved by teammate / round\"})"
      ]
    },
    {
      "cell_type": "code",
      "execution_count": 38,
      "metadata": {
        "id": "fIGXKyWiwozH"
      },
      "outputs": [],
      "source": [
        "#fixing Field8\tTime3\n",
        "df_test5 = df_all[['Field8', 'Time3']]\n",
        "new_index = range(len(df_test5) // 2)\n",
        "df_16 = pd.DataFrame({'Field8': df_test5['Time3'][::2].values, 'Time3': df_test5['Time3'][1::2].values}, index=new_index)\n",
        "df_16 = df_16.rename(columns={\"Field8\": \"Grenade dmg / round\", \"Time3\": \"Saved teammate / round\"})"
      ]
    },
    {
      "cell_type": "code",
      "execution_count": 39,
      "metadata": {
        "id": "1i7fGma9xNAV"
      },
      "outputs": [],
      "source": [
        "#fixing Field9\tField10\n",
        "df_test6 = df_all[['Field9', 'Field10']]\n",
        "new_index = range(len(df_test6) // 2)\n",
        "df_17 = pd.DataFrame({'Field9': df_test6['Field10'][::2].values, 'Field10': df_test6['Field10'][1::2].values}, index=new_index)\n",
        "df_17 = df_17.rename(columns={\"Field9\": \"Maps Played\", \"Field10\": \"Rating 1.0\"})"
      ]
    },
    {
      "cell_type": "code",
      "execution_count": 40,
      "metadata": {
        "id": "wZmjL0GqxdQH"
      },
      "outputs": [],
      "source": [
        "dataframes = [df_12, df_13, df_14, df_15, df_16, df_17]\n",
        "df_fixed = pd.concat(dataframes, axis=1)"
      ]
    },
    {
      "cell_type": "code",
      "execution_count": 41,
      "metadata": {
        "id": "Vs5cAEB6UmE0"
      },
      "outputs": [],
      "source": [
        "#combining the dataframes"
      ]
    },
    {
      "cell_type": "code",
      "execution_count": 42,
      "metadata": {
        "id": "ev8hd9x1x1hq"
      },
      "outputs": [],
      "source": [
        "df_all = df_all.rename(columns={'Text': 'Player'})"
      ]
    },
    {
      "cell_type": "code",
      "execution_count": 43,
      "metadata": {
        "id": "9N-ox6bezEgP"
      },
      "outputs": [],
      "source": [
        "df_all = df_all[['Player']]"
      ]
    },
    {
      "cell_type": "code",
      "execution_count": 44,
      "metadata": {
        "id": "q_G02AUI1EV8"
      },
      "outputs": [],
      "source": [
        "df_all = df_all.iloc[::2]"
      ]
    },
    {
      "cell_type": "code",
      "execution_count": 45,
      "metadata": {
        "id": "sTGCsG0W1jaI"
      },
      "outputs": [],
      "source": [
        "df_all.reset_index(drop=True, inplace=True)"
      ]
    },
    {
      "cell_type": "code",
      "execution_count": 46,
      "metadata": {
        "id": "cUip_Dnr1JmT"
      },
      "outputs": [],
      "source": [
        "result = pd.concat([df_all, df_fixed], axis=1)"
      ]
    },
    {
      "cell_type": "code",
      "execution_count": 47,
      "metadata": {
        "id": "36bPjnX4ZlDm"
      },
      "outputs": [],
      "source": [
        "result.drop_duplicates(subset=['Player'], keep='first', inplace=True)"
      ]
    },
    {
      "cell_type": "code",
      "execution_count": 48,
      "metadata": {
        "id": "Y5au7ufs2cM1"
      },
      "outputs": [],
      "source": [
        "#combining the final 2 dataframes"
      ]
    },
    {
      "cell_type": "code",
      "execution_count": 49,
      "metadata": {
        "id": "xUoSBrAhZYIm"
      },
      "outputs": [],
      "source": [
        "df_final = pd.merge(df_withpast3, result, on=\"Player\", how=\"left\")\n"
      ]
    },
    {
      "cell_type": "code",
      "execution_count": 50,
      "metadata": {
        "id": "o0Z8BuKxf-Xp"
      },
      "outputs": [],
      "source": [
        "df_final = df_final.fillna(0)"
      ]
    },
    {
      "cell_type": "code",
      "execution_count": 51,
      "metadata": {
        "id": "y4qeE5rBpfAC"
      },
      "outputs": [],
      "source": [
        "df_final['Score'] = df_final['Score'].astype(int)"
      ]
    },
    {
      "cell_type": "code",
      "execution_count": 53,
      "metadata": {
        "id": "S3vUECG0JDth"
      },
      "outputs": [],
      "source": [
        "df_finals = df_final.iloc[::5]"
      ]
    },
    {
      "cell_type": "code",
      "execution_count": 54,
      "metadata": {
        "colab": {
          "base_uri": "https://localhost:8080/"
        },
        "id": "MKvD7BcHaHZg",
        "outputId": "07d90bd2-ee63-4c2a-fda9-c516aa93a587"
      },
      "outputs": [
        {
          "name": "stderr",
          "output_type": "stream",
          "text": [
            "C:\\Users\\james\\AppData\\Local\\Temp\\ipykernel_17396\\3353182524.py:1: SettingWithCopyWarning: \n",
            "A value is trying to be set on a copy of a slice from a DataFrame.\n",
            "Try using .loc[row_indexer,col_indexer] = value instead\n",
            "\n",
            "See the caveats in the documentation: https://pandas.pydata.org/pandas-docs/stable/user_guide/indexing.html#returning-a-view-versus-a-copy\n",
            "  df_finals['Score'] = pd.to_numeric(df_finals['Score'], errors='coerce')\n",
            "C:\\Users\\james\\AppData\\Local\\Temp\\ipykernel_17396\\3353182524.py:5: SettingWithCopyWarning: \n",
            "A value is trying to be set on a copy of a slice from a DataFrame.\n",
            "Try using .loc[row_indexer,col_indexer] = value instead\n",
            "\n",
            "See the caveats in the documentation: https://pandas.pydata.org/pandas-docs/stable/user_guide/indexing.html#returning-a-view-versus-a-copy\n",
            "  df_finals['Result'] = 0  # Initialize the 'Result' column with zeros\n"
          ]
        }
      ],
      "source": [
        "df_finals['Score'] = pd.to_numeric(df_finals['Score'], errors='coerce')\n",
        "\n",
        "df_finals.reset_index(drop=True, inplace=True)\n",
        "\n",
        "df_finals['Result'] = 0  # Initialize the 'Result' column with zeros\n",
        "\n",
        "num_rows = len(df_finals)\n",
        "\n",
        "for i in range(0, num_rows - 1, 2):  # Iterate over each pair of rows\n",
        "    if df_finals.loc[i, 'Score'] > df_finals.loc[i + 1, 'Score']:\n",
        "        df_finals.at[i, 'Result'] = 1\n",
        "    elif df_finals.loc[i, 'Score'] < df_finals.loc[i + 1, 'Score']:\n",
        "        df_finals.at[i + 1, 'Result'] = 1"
      ]
    },
    {
      "cell_type": "code",
      "execution_count": 55,
      "metadata": {
        "id": "Br5g3lsxfSZw"
      },
      "outputs": [],
      "source": [
        "result_col = df_finals[['Result']]"
      ]
    },
    {
      "cell_type": "code",
      "execution_count": 56,
      "metadata": {
        "id": "Sr7ubjGjgBww"
      },
      "outputs": [],
      "source": [
        "result_col_duplicated = result_col.loc[result_col.index.repeat(5)].reset_index(drop=True)"
      ]
    },
    {
      "cell_type": "code",
      "execution_count": 58,
      "metadata": {
        "id": "d6r9Dw7bgR9F"
      },
      "outputs": [],
      "source": [
        "df_final = pd.concat([df_final, result_col_duplicated], axis=1)"
      ]
    },
    {
      "cell_type": "code",
      "execution_count": 59,
      "metadata": {
        "id": "5d7Rj6Rfhiwp"
      },
      "outputs": [],
      "source": [
        "df_final = df_final.drop(columns=['Score'])"
      ]
    },
    {
      "cell_type": "code",
      "execution_count": 60,
      "metadata": {
        "id": "n3oCwaR5S3RB"
      },
      "outputs": [],
      "source": [
        "count_ones = (df_final['Result'] == 1).sum()"
      ]
    },
    {
      "cell_type": "code",
      "execution_count": 61,
      "metadata": {
        "id": "f7qSAhGF0gM7"
      },
      "outputs": [],
      "source": [
        "df_final.to_csv('readyforML2.csv', index=False)"
      ]
    },
    {
      "cell_type": "code",
      "execution_count": 68,
      "metadata": {},
      "outputs": [],
      "source": [
        "df = pd.read_csv('readyforML2.csv')\n",
        "df1 = pd.read_csv('New Stats - Sheet1.csv')\n",
        "df2 = pd.read_csv('2nd new data - Sheet1.csv')\n",
        "df3 = pd.read_csv('3rd new data - Sheet1.csv')"
      ]
    },
    {
      "cell_type": "code",
      "execution_count": 69,
      "metadata": {},
      "outputs": [
        {
          "name": "stdout",
          "output_type": "stream",
          "text": [
            "Empty DataFrame\n",
            "Columns: [Player, KD Diff, ADR, KAST, Rating, Team, Kills, Deaths, Rating 2.0, KPR, HS, Maps Played_x, DPR, Rounds Contributed, Rounds played, Total kills, Total deaths, Assists / round, KD ratio, Deaths / round, Damage / round, Saved by teammate / round, Grenade dmg / round, Saved teammate / round, Maps Played_y, Rating 1.0, Result, First kill in won rounds, Opening kill rating, Opening kill ratio, Team win percent after first kill, Total opening deaths, Total opening kills, Rating All Time, Rating Online, LAN Rating, Major Rating, All Time Maps Played, Online Maps Played, Lan Maps Played, Major Maps Played]\n",
            "Index: []\n",
            "\n",
            "[0 rows x 41 columns]\n",
            "<class 'pandas.core.frame.DataFrame'>\n",
            "RangeIndex: 9600 entries, 0 to 9599\n",
            "Data columns (total 41 columns):\n",
            " #   Column                             Non-Null Count  Dtype  \n",
            "---  ------                             --------------  -----  \n",
            " 0   Player                             9600 non-null   object \n",
            " 1   KD Diff                            9600 non-null   float64\n",
            " 2   ADR                                9600 non-null   float64\n",
            " 3   KAST                               9600 non-null   object \n",
            " 4   Rating                             9600 non-null   float64\n",
            " 5   Team                               9600 non-null   object \n",
            " 6   Kills                              9600 non-null   int64  \n",
            " 7   Deaths                             9600 non-null   int64  \n",
            " 8   Rating 2.0                         9600 non-null   float64\n",
            " 9   KPR                                9600 non-null   float64\n",
            " 10  HS                                 9600 non-null   object \n",
            " 11  Maps Played_x                      9600 non-null   int64  \n",
            " 12  DPR                                9600 non-null   float64\n",
            " 13  Rounds Contributed                 9600 non-null   object \n",
            " 14  Rounds played                      9600 non-null   int64  \n",
            " 15  Total kills                        9600 non-null   int64  \n",
            " 16  Total deaths                       9600 non-null   float64\n",
            " 17  Assists / round                    9600 non-null   float64\n",
            " 18  KD ratio                           9600 non-null   float64\n",
            " 19  Deaths / round                     9600 non-null   float64\n",
            " 20  Damage / round                     9600 non-null   float64\n",
            " 21  Saved by teammate / round          9600 non-null   float64\n",
            " 22  Grenade dmg / round                9600 non-null   float64\n",
            " 23  Saved teammate / round             9600 non-null   float64\n",
            " 24  Maps Played_y                      9600 non-null   float64\n",
            " 25  Rating 1.0                         9600 non-null   float64\n",
            " 26  Result                             9600 non-null   int64  \n",
            " 27  First kill in won rounds           9600 non-null   float64\n",
            " 28  Opening kill rating                9600 non-null   float64\n",
            " 29  Opening kill ratio                 9600 non-null   float64\n",
            " 30  Team win percent after first kill  9600 non-null   float64\n",
            " 31  Total opening deaths               9600 non-null   float64\n",
            " 32  Total opening kills                9600 non-null   float64\n",
            " 33  Rating All Time                    9600 non-null   object \n",
            " 34  Rating Online                      9600 non-null   object \n",
            " 35  LAN Rating                         9600 non-null   object \n",
            " 36  Major Rating                       9600 non-null   object \n",
            " 37  All Time Maps Played               9600 non-null   float64\n",
            " 38  Online Maps Played                 9600 non-null   float64\n",
            " 39  Lan Maps Played                    9600 non-null   float64\n",
            " 40  Major Maps Played                  9600 non-null   float64\n",
            "dtypes: float64(26), int64(6), object(9)\n",
            "memory usage: 3.0+ MB\n"
          ]
        }
      ],
      "source": [
        "df_25 = df2.drop(['Field1'], axis=1, errors='ignore')\n",
        "# Extract string and numeric portions into separate columns\n",
        "df2[['Metric', 'Value']] = df2['Field1'].str.extract(r'(.+)\\n(.+)')\n",
        "# Convert the 'Value' column to numeric, handling percentages\n",
        "df2['Value'] = pd.to_numeric(df2['Value'].str.rstrip('%'), errors='coerce')\n",
        "df2 = df2[['Text', 'Metric', 'Value']]\n",
        "# Aggregate duplicate entries by taking the mean\n",
        "df2 = df2.groupby(['Text', 'Metric']).mean().reset_index()\n",
        "# Pivot the DataFrame to have metrics as columns\n",
        "result_df2 = df2.pivot(index='Text', columns='Metric', values='Value')\n",
        "result_df2 = result_df2.reset_index()\n",
        "result_df2.rename(columns={'Text': 'Player'}, inplace=True)\n",
        "result_df2.columns.name = None\n",
        "\n",
        "df_35 = df3.drop(['Field1'], axis=1, errors='ignore')\n",
        "\n",
        "# Extract string and numeric portions into separate columns\n",
        "df3[['Metric', 'Value']] = df3['Field1'].str.extract(r'(.+)\\n(.+)')\n",
        "\n",
        "# Convert the 'Value' column to numeric, handling percentages\n",
        "df3['Value'] = pd.to_numeric(df3['Value'].str.rstrip('%'), errors='coerce')\n",
        "df3 = df3[['Text', 'Metric', 'Value']]\n",
        "# Aggregate duplicate entries by taking the mean\n",
        "df3 = df3.groupby(['Text', 'Metric']).mean().reset_index()\n",
        "\n",
        "# Pivot the DataFrame to have metrics as columns\n",
        "result_df3 = df3.pivot(index='Text', columns='Metric', values='Value')\n",
        "result_df3 = result_df3.reset_index()\n",
        "result_df3.rename(columns={'Text': 'Player'}, inplace=True)\n",
        "result_df3.columns.name = None\n",
        "df_15 = df1.drop(['Field1'], axis=1, errors='ignore')\n",
        "# Extract string and numeric portions into separate columns\n",
        "df1[['Metric', 'Value']] = df1['Field1'].str.extract(r'(.+)\\n(.+)')\n",
        "\n",
        "# Convert the 'Value' column to numeric, handling percentages\n",
        "df1['Value'] = pd.to_numeric(df1['Value'].str.rstrip('%'), errors='coerce')\n",
        "df1 = df1[['Text', 'Metric', 'Value']]\n",
        "# Aggregate duplicate entries by taking the mean\n",
        "df1 = df1.groupby(['Text', 'Metric']).mean().reset_index()\n",
        "\n",
        "# Pivot the DataFrame to have metrics as columns\n",
        "result_df = df1.pivot(index='Text', columns='Metric', values='Value')\n",
        "result_df = result_df.reset_index()\n",
        "result_df.rename(columns={'Text': 'Player'}, inplace=True)\n",
        "result_df.columns.name = None\n",
        "df_15 = df_15.dropna()\n",
        "df_15 = df_15[df_15['Field2'].str.contains(r'\\d')]\n",
        "\n",
        "\n",
        "df_15 = df_15.groupby('Text').apply(lambda x: pd.Series(x['Field2'].to_list())).unstack()\n",
        "\n",
        "# Rename the columns\n",
        "df_15.columns = [f'Column_{i+1}' for i in range(len(df_15.columns))]\n",
        "\n",
        "# Reset index\n",
        "df_15.reset_index(inplace=True)\n",
        "columns_to_keep = ['Text', 'Column_1', 'Column_2', 'Column_3', 'Column_4']\n",
        "df_15 = df_15[columns_to_keep]\n",
        "df_15.rename(columns={'Text': 'Player',\n",
        "                      'Column_1': 'Rating All Time',\n",
        "                      'Column_2': 'Rating Online',\n",
        "                      'Column_3': 'LAN Rating',\n",
        "                      'Column_4': 'Major Rating'}, inplace=True)\n",
        "df_15 = df_15.fillna(0)\n",
        "\n",
        "df_15 = df_15.astype(str)\n",
        "\n",
        "# Extract numbers within parentheses and create new columns\n",
        "pattern = re.compile(r'\\((\\d+(\\.\\d+)?)\\)')\n",
        "for col in df_15.columns[1:]:\n",
        "    df_15[col + ' Parentheses'] = df_15[col].apply(lambda x: float(pattern.search(x).group(1)) if pattern.search(x) else 0)\n",
        "\n",
        "# Remove parentheses from the original columns\n",
        "df_15 = df_15.replace(to_replace=r'\\((\\d+(\\.\\d+)?)\\)', value='', regex=True)\n",
        "\n",
        "df_15 = df_15.rename(columns={\n",
        "    'Rating All Time Parentheses': 'All Time Maps Played',\n",
        "    'Rating Online Parentheses': 'Online Maps Played',\n",
        "    'LAN Rating Parentheses': 'Lan Maps Played',\n",
        "    'Major Rating Parentheses': 'Major Maps Played'\n",
        "})\n",
        "df_25 = df_25.dropna()\n",
        "df_25 = df_25[df_25['Field2'].str.contains(r'\\d')]\n",
        "\n",
        "\n",
        "df_25 = df_25.groupby('Text').apply(lambda x: pd.Series(x['Field2'].to_list())).unstack()\n",
        "\n",
        "# Rename the columns\n",
        "df_25.columns = [f'Column_{i+1}' for i in range(len(df_25.columns))]\n",
        "\n",
        "# Reset index\n",
        "df_25.reset_index(inplace=True)\n",
        "columns_to_keep = ['Text', 'Column_1', 'Column_2', 'Column_3', 'Column_4']\n",
        "df_25 = df_25[columns_to_keep]\n",
        "df_25.rename(columns={'Text': 'Player',\n",
        "                      'Column_1': 'Rating All Time',\n",
        "                      'Column_2': 'Rating Online',\n",
        "                      'Column_3': 'LAN Rating',\n",
        "                      'Column_4': 'Major Rating'}, inplace=True)\n",
        "df_25 = df_25.fillna(0)\n",
        "\n",
        "df_25 = df_25.astype(str)\n",
        "\n",
        "# Extract numbers within parentheses and create new columns\n",
        "pattern = re.compile(r'\\((\\d+(\\.\\d+)?)\\)')\n",
        "for col in df_25.columns[1:]:\n",
        "    df_25[col + ' Parentheses'] = df_25[col].apply(lambda x: float(pattern.search(x).group(1)) if pattern.search(x) else 0)\n",
        "\n",
        "# Remove parentheses from the original columns\n",
        "df_25 = df_25.replace(to_replace=r'\\((\\d+(\\.\\d+)?)\\)', value='', regex=True)\n",
        "\n",
        "df_25 = df_25.rename(columns={\n",
        "    'Rating All Time Parentheses': 'All Time Maps Played',\n",
        "    'Rating Online Parentheses': 'Online Maps Played',\n",
        "    'LAN Rating Parentheses': 'Lan Maps Played',\n",
        "    'Major Rating Parentheses': 'Major Maps Played'\n",
        "})\n",
        "df_35 = df_35.dropna()\n",
        "df_35 = df_35[df_35['Field2'].str.contains(r'\\d')]\n",
        "\n",
        "\n",
        "df_35 = df_35.groupby('Text').apply(lambda x: pd.Series(x['Field2'].to_list())).unstack()\n",
        "\n",
        "# Rename the columns\n",
        "df_35.columns = [f'Column_{i+1}' for i in range(len(df_35.columns))]\n",
        "\n",
        "# Reset index\n",
        "df_35.reset_index(inplace=True)\n",
        "columns_to_keep = ['Text', 'Column_1', 'Column_2', 'Column_3', 'Column_4']\n",
        "df_35 = df_35[columns_to_keep]\n",
        "df_35.rename(columns={'Text': 'Player',\n",
        "                      'Column_1': 'Rating All Time',\n",
        "                      'Column_2': 'Rating Online',\n",
        "                      'Column_3': 'LAN Rating',\n",
        "                      'Column_4': 'Major Rating'}, inplace=True)\n",
        "df_35 = df_35.fillna(0)\n",
        "\n",
        "df_35 = df_35.astype(str)\n",
        "\n",
        "# Extract numbers within parentheses and create new columns\n",
        "pattern = re.compile(r'\\((\\d+(\\.\\d+)?)\\)')\n",
        "for col in df_35.columns[1:]:\n",
        "    df_35[col + ' Parentheses'] = df_35[col].apply(lambda x: float(pattern.search(x).group(1)) if pattern.search(x) else 0)\n",
        "\n",
        "# Remove parentheses from the original columns\n",
        "df_35 = df_35.replace(to_replace=r'\\((\\d+(\\.\\d+)?)\\)', value='', regex=True)\n",
        "\n",
        "df_35 = df_35.rename(columns={\n",
        "    'Rating All Time Parentheses': 'All Time Maps Played',\n",
        "    'Rating Online Parentheses': 'Online Maps Played',\n",
        "    'LAN Rating Parentheses': 'Lan Maps Played',\n",
        "    'Major Rating Parentheses': 'Major Maps Played'\n",
        "})\n",
        "result_df4 = pd.concat([result_df, result_df2, result_df3], ignore_index=True)\n",
        "result_df4 = result_df4.drop_duplicates(subset='Player', keep='first')\n",
        "df = pd.merge(df, result_df4, on='Player', how='left')\n",
        "df_finalmerge = pd.concat([df_15, df_25, df_35], ignore_index=True)\n",
        "df_finalmerge = df_finalmerge.drop_duplicates(subset='Player', keep='first')\n",
        "df = pd.merge(df, df_finalmerge, on='Player', how='left')\n",
        "df\n",
        "rows_with_nan = df[df.isna().any(axis=1)]\n",
        "\n",
        "print(rows_with_nan)\n",
        "df.info()\n",
        "df['Matches Won'] = df.groupby('Player')['Result'].transform('sum')\n",
        "df['Matches Lost'] = df.groupby('Player')['Result'].transform(lambda x: (x == 0).sum())\n",
        "df['Team Matches Won'] = df.groupby('Team')['Result'].transform('sum')\n",
        "df['Team Matches Lost'] = df.groupby('Team')['Result'].transform(lambda x: (x == 0).sum())\n",
        "df['Player/Team Matches Won'] = df.groupby(['Player', 'Team'])['Result'].transform('sum')\n",
        "df['Player/Team Matches Lost'] = df.groupby(['Player', 'Team'])['Result'].transform(lambda x: (x == 0).sum())\n",
        "df['Match Number'] = np.ceil((df.index + 1) / 10).astype(int)\n",
        "df['Rating All Time'] = pd.to_numeric(df['Rating All Time'], errors='coerce')\n",
        "df['Rating Online'] = pd.to_numeric(df['Rating Online'], errors='coerce')\n",
        "df['LAN Rating'] = pd.to_numeric(df['LAN Rating'], errors='coerce')\n",
        "df['Major Rating'] = pd.to_numeric(df['Major Rating'], errors='coerce')\n",
        "df['HS'] = df['HS'].str.replace('%', '').astype(float)\n",
        "df['Rounds Contributed'] = df['Rounds Contributed'].str.replace('%', '').astype(float)"
      ]
    },
    {
      "cell_type": "code",
      "execution_count": 70,
      "metadata": {},
      "outputs": [],
      "source": [
        "#columns used for machine learning\n",
        "df.columns\n",
        "df['KAST'] = df['KAST'].str.replace('%', '')\n",
        "\n",
        "df['KAST'] = df['KAST'].astype(float)\n",
        "df.fillna(0, inplace=True)\n",
        "cat_df = df[['Team','Player']].copy()\n",
        "cont_df = df[['KD Diff', 'ADR', 'KAST', 'Rating', 'Kills', 'Deaths',\n",
        "       'Rating 2.0', 'KPR', 'HS', 'Maps Played_x', 'DPR', 'Rounds Contributed',\n",
        "       'Rounds played', 'Total kills', 'Total deaths', 'Assists / round',\n",
        "       'KD ratio', 'Deaths / round', 'Damage / round',\n",
        "       'Saved by teammate / round', 'Grenade dmg / round',\n",
        "       'Saved teammate / round', 'Maps Played_y', 'Rating 1.0', 'First kill in won rounds', 'Opening kill rating', 'Opening kill ratio',\n",
        "       'Team win percent after first kill', 'Total opening deaths',\n",
        "       'Total opening kills', 'Rating All Time', 'Rating Online', 'LAN Rating',\n",
        "       'Major Rating', 'All Time Maps Played', 'Online Maps Played',\n",
        "       'Lan Maps Played', 'Major Maps Played', 'Matches Won', 'Matches Lost',\n",
        "       'Team Matches Won', 'Team Matches Lost', 'Player/Team Matches Won',\n",
        "       'Player/Team Matches Lost', 'Match Number','Result']].copy()"
      ]
    },
    {
      "cell_type": "code",
      "execution_count": 43,
      "metadata": {},
      "outputs": [
        {
          "name": "stdout",
          "output_type": "stream",
          "text": [
            "Selected Features: Index(['KD Diff', 'ADR', 'KAST', 'Rating', 'Kills', 'Deaths', 'Major Rating',\n",
            "       'Lan Maps Played', 'Major Maps Played', 'Matches Won', 'Matches Lost',\n",
            "       'Team Matches Won', 'Team Matches Lost', 'Player/Team Matches Won',\n",
            "       'Player/Team Matches Lost'],\n",
            "      dtype='object')\n",
            "Feature Scores: [2.43782048e+03 9.36292509e+02 3.15249599e+03 3.01372639e+03\n",
            " 2.30090481e+02 2.78187970e+02 1.59932509e+01 1.39667625e+01\n",
            " 9.24049845e+00 4.43511837e-02 8.14037663e+00 1.48537293e+01\n",
            " 3.81650255e+01 3.34385394e+01 2.95999259e+01 1.82340324e-01\n",
            " 1.03032432e+01 7.01111031e+00 6.62460904e+00 8.90050718e+00\n",
            " 1.89642551e+00 8.79826996e-01 3.17331541e+01 5.29889963e+00\n",
            " 2.84171236e+00 4.86107185e+00 1.46234572e+00 1.81842778e+01\n",
            " 2.72666554e+01 3.59273372e+01 1.03286991e+01 8.12679331e+00\n",
            " 4.25908377e+01 1.71898527e+02 3.08499803e+01 1.67876489e+00\n",
            " 1.08194795e+02 7.52086934e+01 4.71337403e+02 1.87789596e+02\n",
            " 5.33274015e+02 1.39000756e+02 4.35449871e+02 1.60349654e+02\n",
            " 3.99952233e-02]\n"
          ]
        },
        {
          "name": "stderr",
          "output_type": "stream",
          "text": [
            "C:\\Users\\james\\AppData\\Local\\Temp\\ipykernel_21780\\3086552117.py:24: FutureWarning: \n",
            "\n",
            "Passing `palette` without assigning `hue` is deprecated and will be removed in v0.14.0. Assign the `y` variable to `hue` and set `legend=False` for the same effect.\n",
            "\n",
            "  sns.barplot(x='Score', y='Feature', data=feature_scores_df, palette='viridis')\n"
          ]
        },
        {
          "data": {
            "image/png": "[encoded data removed]",
            "text/plain": [
              "<Figure size 1200x800 with 1 Axes>"
            ]
          },
          "metadata": {},
          "output_type": "display_data"
        }
      ],
      "source": [
        "#Using selectKBest\n",
        "X = cont_df.drop('Result', axis=1)\n",
        "y = cont_df['Result']\n",
        "\n",
        "X_train, X_test, y_train, y_test = train_test_split(X, y, test_size=0.2, random_state=42)\n",
        "\n",
        "selector = SelectKBest(score_func=f_regression, k=15)\n",
        "X_train_selected = selector.fit_transform(X_train, y_train)\n",
        "X_test_selected = selector.transform(X_test)\n",
        "\n",
        "selected_features = X.columns[selector.get_support()]\n",
        "\n",
        "\n",
        "feature_scores = selector.scores_\n",
        "\n",
        "print(\"Selected Features:\", selected_features)\n",
        "print(\"Feature Scores:\", feature_scores)\n",
        "\n",
        "feature_scores_df = pd.DataFrame({'Feature': X.columns, 'Score': feature_scores})\n",
        "\n",
        "feature_scores_df = feature_scores_df.sort_values(by='Score', ascending=False)\n",
        "\n",
        "plt.figure(figsize=(12, 8))\n",
        "sns.barplot(x='Score', y='Feature', data=feature_scores_df, palette='viridis')\n",
        "plt.title('Feature Scores from SelectKBest')\n",
        "plt.xlabel('Score')\n",
        "plt.ylabel('Feature')\n",
        "plt.show()"
      ]
    },
    {
      "cell_type": "code",
      "execution_count": 71,
      "metadata": {},
      "outputs": [
        {
          "name": "stdout",
          "output_type": "stream",
          "text": [
            "Correlation Matrix:\n",
            "                                    KD Diff       ADR      KAST    Rating  \\\n",
            "KD Diff                            1.000000  0.713180  0.670027  0.880387   \n",
            "ADR                                0.713180  1.000000  0.543272  0.863343   \n",
            "KAST                               0.670027  0.543272  1.000000  0.786739   \n",
            "Rating                             0.880387  0.863343  0.786739  1.000000   \n",
            "Kills                              0.458573  0.423298  0.284300  0.412212   \n",
            "Deaths                            -0.262880 -0.082977 -0.201061 -0.222218   \n",
            "Rating 2.0                         0.190813  0.183554  0.111950  0.183232   \n",
            "KPR                                0.193014  0.188088  0.107319  0.184720   \n",
            "HS                                 0.006140  0.137788  0.024335  0.060812   \n",
            "Maps Played_x                      0.067671  0.075930  0.035679  0.070827   \n",
            "DPR                                0.040765  0.125249  0.022966  0.075249   \n",
            "Rounds Contributed                 0.138111  0.144275  0.090242  0.140254   \n",
            "Rounds played                      0.073580  0.154733  0.029418  0.099485   \n",
            "Total kills                        0.009848  0.100179  0.002864  0.044838   \n",
            "Total deaths                      -0.026048  0.098454 -0.022288  0.022811   \n",
            "Assists / round                   -0.211043  0.083184 -0.089046 -0.102446   \n",
            "KD ratio                           0.427238  0.223310  0.213811  0.323164   \n",
            "Deaths / round                    -0.307431  0.005043 -0.209523 -0.183133   \n",
            "Damage / round                     0.246095  0.385312  0.094158  0.265788   \n",
            "Saved by teammate / round         -0.237480 -0.122984 -0.077827 -0.171660   \n",
            "Grenade dmg / round               -0.140571  0.041680 -0.043695 -0.071379   \n",
            "Saved teammate / round             0.173014  0.105990  0.137744  0.133293   \n",
            "Maps Played_y                      0.007452  0.097426  0.000948  0.042073   \n",
            "Rating 1.0                         0.395931  0.275313  0.193204  0.322778   \n",
            "First kill in won rounds           0.167063  0.203666  0.001204  0.178058   \n",
            "Opening kill rating                0.277224  0.217510  0.073356  0.245052   \n",
            "Opening kill ratio                 0.374716  0.119218  0.170341  0.256729   \n",
            "Team win percent after first kill  0.147329  0.065572  0.066076  0.110010   \n",
            "Total opening deaths              -0.080777  0.101543 -0.068263 -0.002713   \n",
            "Total opening kills                0.074070  0.168754  0.005885  0.110240   \n",
            "Rating All Time                    0.418873  0.275899  0.195414  0.335194   \n",
            "Rating Online                      0.392443  0.251801  0.183245  0.311962   \n",
            "LAN Rating                         0.440978  0.315997  0.226928  0.368606   \n",
            "Major Rating                       0.287512  0.222983  0.201659  0.265944   \n",
            "All Time Maps Played               0.006401  0.096302  0.000503  0.041063   \n",
            "Online Maps Played                -0.063899  0.031897 -0.060819 -0.029772   \n",
            "Lan Maps Played                    0.072362  0.126508  0.059738  0.095965   \n",
            "Major Maps Played                  0.084255  0.073792  0.068973  0.085876   \n",
            "Matches Won                        0.239512  0.226608  0.221978  0.257613   \n",
            "Matches Lost                       0.187116  0.213085  0.161386  0.207460   \n",
            "Team Matches Won                   0.169550  0.120889  0.199551  0.185862   \n",
            "Team Matches Lost                  0.089751  0.060511  0.116174  0.098740   \n",
            "Player/Team Matches Won            0.211694  0.203111  0.199208  0.230023   \n",
            "Player/Team Matches Lost           0.151488  0.181856  0.134676  0.171695   \n",
            "Match Number                      -0.000748 -0.004010  0.025503  0.002251   \n",
            "Result                             0.497117  0.334174  0.539903  0.534015   \n",
            "\n",
            "                                      Kills    Deaths  Rating 2.0       KPR  \\\n",
            "KD Diff                            0.458573 -0.262880    0.190813  0.193014   \n",
            "ADR                                0.423298 -0.082977    0.183554  0.188088   \n",
            "KAST                               0.284300 -0.201061    0.111950  0.107319   \n",
            "Rating                             0.412212 -0.222218    0.183232  0.184720   \n",
            "Kills                              1.000000  0.736851    0.094369  0.097542   \n",
            "Deaths                             0.736851  1.000000   -0.042706 -0.040935   \n",
            "Rating 2.0                         0.094369 -0.042706    1.000000  0.995212   \n",
            "KPR                                0.097542 -0.040935    0.995212  1.000000   \n",
            "HS                                 0.028077  0.025812    0.782587  0.781481   \n",
            "Maps Played_x                      0.022645 -0.026895    0.655529  0.650087   \n",
            "DPR                                0.033057  0.004878    0.905429  0.908651   \n",
            "Rounds Contributed                 0.066438 -0.032937    0.982704  0.973525   \n",
            "Rounds played                      0.066637  0.016372   -0.104218 -0.102335   \n",
            "Total kills                        0.029983  0.025061   -0.158785 -0.161242   \n",
            "Total deaths                       0.019044  0.040493   -0.169128 -0.169645   \n",
            "Assists / round                   -0.070265  0.084265   -0.166185 -0.181812   \n",
            "KD ratio                           0.196924 -0.111222    0.289254  0.297596   \n",
            "Deaths / round                    -0.089370  0.136851   -0.177734 -0.158151   \n",
            "Damage / round                     0.176774  0.004708    0.264015  0.281823   \n",
            "Saved by teammate / round         -0.107920  0.063494   -0.165270 -0.170158   \n",
            "Grenade dmg / round               -0.065159  0.036197    0.010492 -0.017616   \n",
            "Saved teammate / round             0.085931 -0.038325    0.218740  0.226951   \n",
            "Maps Played_y                      0.028180  0.024926   -0.164602 -0.167106   \n",
            "Rating 1.0                         0.199449 -0.084663    0.375434  0.388302   \n",
            "First kill in won rounds           0.124981  0.008599    0.152401  0.175654   \n",
            "Opening kill rating                0.161377 -0.035692    0.212068  0.233851   \n",
            "Opening kill ratio                 0.154204 -0.117648    0.238855  0.246703   \n",
            "Team win percent after first kill  0.060677 -0.046205   -0.028167 -0.032924   \n",
            "Total opening deaths               0.006504  0.068513   -0.155001 -0.153464   \n",
            "Total opening kills                0.075586  0.025716   -0.067325 -0.061606   \n",
            "Rating All Time                    0.212591 -0.087849    0.289994  0.305499   \n",
            "Rating Online                      0.195961 -0.085797    0.261130  0.276087   \n",
            "LAN Rating                         0.232069 -0.083517    0.281857  0.294748   \n",
            "Major Rating                       0.133538 -0.073744    0.113355  0.101835   \n",
            "All Time Maps Played               0.027410  0.024890   -0.157754 -0.160102   \n",
            "Online Maps Played                -0.016108  0.031123   -0.098403 -0.095061   \n",
            "Lan Maps Played                    0.060426  0.010555   -0.162318 -0.169391   \n",
            "Major Maps Played                  0.047278 -0.012767   -0.077763 -0.083704   \n",
            "Matches Won                        0.140654 -0.029501    0.213022  0.204393   \n",
            "Matches Lost                       0.114388 -0.018157    0.133730  0.122515   \n",
            "Team Matches Won                   0.100653 -0.019706    0.052349  0.046207   \n",
            "Team Matches Lost                  0.054462 -0.009148   -0.085956 -0.091701   \n",
            "Player/Team Matches Won            0.123804 -0.026632    0.193761  0.188621   \n",
            "Player/Team Matches Lost           0.088534 -0.019123    0.111731  0.105020   \n",
            "Match Number                      -0.025958 -0.027613    0.144842  0.146625   \n",
            "Result                             0.173707 -0.189591    0.050367  0.046690   \n",
            "\n",
            "                                         HS  Maps Played_x  ...  \\\n",
            "KD Diff                            0.006140       0.067671  ...   \n",
            "ADR                                0.137788       0.075930  ...   \n",
            "KAST                               0.024335       0.035679  ...   \n",
            "Rating                             0.060812       0.070827  ...   \n",
            "Kills                              0.028077       0.022645  ...   \n",
            "Deaths                             0.025812      -0.026895  ...   \n",
            "Rating 2.0                         0.782587       0.655529  ...   \n",
            "KPR                                0.781481       0.650087  ...   \n",
            "HS                                 1.000000       0.541793  ...   \n",
            "Maps Played_x                      0.541793       1.000000  ...   \n",
            "DPR                                0.881247       0.620888  ...   \n",
            "Rounds Contributed                 0.828621       0.660168  ...   \n",
            "Rounds played                     -0.088392      -0.097742  ...   \n",
            "Total kills                       -0.099759      -0.121045  ...   \n",
            "Total deaths                      -0.065101      -0.116086  ...   \n",
            "Assists / round                    0.121345      -0.140568  ...   \n",
            "KD ratio                          -0.122114       0.103527  ...   \n",
            "Deaths / round                     0.227415      -0.052507  ...   \n",
            "Damage / round                     0.195328       0.108944  ...   \n",
            "Saved by teammate / round          0.086063      -0.079683  ...   \n",
            "Grenade dmg / round                0.142352       0.056908  ...   \n",
            "Saved teammate / round             0.142026       0.068840  ...   \n",
            "Maps Played_y                     -0.105142      -0.127240  ...   \n",
            "Rating 1.0                         0.036912       0.153284  ...   \n",
            "First kill in won rounds          -0.028911       0.071762  ...   \n",
            "Opening kill rating               -0.096112       0.090722  ...   \n",
            "Opening kill ratio                -0.247580       0.114558  ...   \n",
            "Team win percent after first kill -0.268497      -0.107444  ...   \n",
            "Total opening deaths               0.011771      -0.096225  ...   \n",
            "Total opening kills               -0.080408      -0.071042  ...   \n",
            "Rating All Time                   -0.061284       0.101520  ...   \n",
            "Rating Online                     -0.082744       0.090886  ...   \n",
            "LAN Rating                        -0.029557       0.092965  ...   \n",
            "Major Rating                      -0.015164       0.051973  ...   \n",
            "All Time Maps Played              -0.097781      -0.117988  ...   \n",
            "Online Maps Played                -0.052541       0.027564  ...   \n",
            "Lan Maps Played                   -0.108737      -0.219343  ...   \n",
            "Major Maps Played                 -0.099069      -0.059258  ...   \n",
            "Matches Won                        0.183014      -0.028110  ...   \n",
            "Matches Lost                       0.120926      -0.040620  ...   \n",
            "Team Matches Won                   0.048618      -0.071898  ...   \n",
            "Team Matches Lost                 -0.101040      -0.146722  ...   \n",
            "Player/Team Matches Won            0.159123      -0.029871  ...   \n",
            "Player/Team Matches Lost           0.082147      -0.053294  ...   \n",
            "Match Number                       0.150877       0.126912  ...   \n",
            "Result                             0.035738       0.004144  ...   \n",
            "\n",
            "                                   Lan Maps Played  Major Maps Played  \\\n",
            "KD Diff                                   0.072362           0.084255   \n",
            "ADR                                       0.126508           0.073792   \n",
            "KAST                                      0.059738           0.068973   \n",
            "Rating                                    0.095965           0.085876   \n",
            "Kills                                     0.060426           0.047278   \n",
            "Deaths                                    0.010555          -0.012767   \n",
            "Rating 2.0                               -0.162318          -0.077763   \n",
            "KPR                                      -0.169391          -0.083704   \n",
            "HS                                       -0.108737          -0.099069   \n",
            "Maps Played_x                            -0.219343          -0.059258   \n",
            "DPR                                      -0.150948          -0.083148   \n",
            "Rounds Contributed                       -0.164165          -0.077452   \n",
            "Rounds played                             0.830499           0.447107   \n",
            "Total kills                               0.833645           0.443544   \n",
            "Total deaths                              0.818397           0.428763   \n",
            "Assists / round                           0.300574           0.094405   \n",
            "KD ratio                                  0.068814           0.093389   \n",
            "Deaths / round                            0.065053          -0.021206   \n",
            "Damage / round                            0.213396           0.092852   \n",
            "Saved by teammate / round                -0.123469          -0.099865   \n",
            "Grenade dmg / round                       0.090874          -0.024424   \n",
            "Saved teammate / round                   -0.169840          -0.074250   \n",
            "Maps Played_y                             0.838154           0.445323   \n",
            "Rating 1.0                               -0.123001          -0.014234   \n",
            "First kill in won rounds                  0.106093           0.094584   \n",
            "Opening kill rating                       0.094928           0.106230   \n",
            "Opening kill ratio                       -0.036842           0.039871   \n",
            "Team win percent after first kill         0.346470           0.216644   \n",
            "Total opening deaths                      0.740869           0.390091   \n",
            "Total opening kills                       0.765162           0.424904   \n",
            "Rating All Time                           0.110568           0.109285   \n",
            "Rating Online                             0.109937           0.102629   \n",
            "LAN Rating                                0.237572           0.195980   \n",
            "Major Rating                              0.356320           0.289858   \n",
            "All Time Maps Played                      0.836041           0.445131   \n",
            "Online Maps Played                        0.377933           0.155236   \n",
            "Lan Maps Played                           1.000000           0.576938   \n",
            "Major Maps Played                         0.576938           1.000000   \n",
            "Matches Won                               0.599879           0.375178   \n",
            "Matches Lost                              0.661650           0.342187   \n",
            "Team Matches Won                          0.546463           0.347749   \n",
            "Team Matches Lost                         0.521717           0.264613   \n",
            "Player/Team Matches Won                   0.582220           0.352397   \n",
            "Player/Team Matches Lost                  0.614249           0.302512   \n",
            "Match Number                             -0.088450          -0.062874   \n",
            "Result                                    0.114953           0.093257   \n",
            "\n",
            "                                   Matches Won  Matches Lost  \\\n",
            "KD Diff                               0.239512      0.187116   \n",
            "ADR                                   0.226608      0.213085   \n",
            "KAST                                  0.221978      0.161386   \n",
            "Rating                                0.257613      0.207460   \n",
            "Kills                                 0.140654      0.114388   \n",
            "Deaths                               -0.029501     -0.018157   \n",
            "Rating 2.0                            0.213022      0.133730   \n",
            "KPR                                   0.204393      0.122515   \n",
            "HS                                    0.183014      0.120926   \n",
            "Maps Played_x                        -0.028110     -0.040620   \n",
            "DPR                                   0.156350      0.089616   \n",
            "Rounds Contributed                    0.202233      0.123523   \n",
            "Rounds played                         0.387628      0.521511   \n",
            "Total kills                           0.363128      0.504663   \n",
            "Total deaths                          0.346580      0.491550   \n",
            "Assists / round                       0.044014      0.171589   \n",
            "KD ratio                              0.200768      0.170424   \n",
            "Deaths / round                       -0.120458     -0.043854   \n",
            "Damage / round                        0.209282      0.279477   \n",
            "Saved by teammate / round            -0.096012     -0.036454   \n",
            "Grenade dmg / round                  -0.001681      0.083194   \n",
            "Saved teammate / round                0.048807      0.089924   \n",
            "Maps Played_y                         0.360996      0.503768   \n",
            "Rating 1.0                            0.141589      0.102613   \n",
            "First kill in won rounds              0.102003      0.130552   \n",
            "Opening kill rating                   0.140580      0.141170   \n",
            "Opening kill ratio                    0.098784      0.070497   \n",
            "Team win percent after first kill     0.241056      0.245815   \n",
            "Total opening deaths                  0.320773      0.452385   \n",
            "Total opening kills                   0.369269      0.490037   \n",
            "Rating All Time                       0.212616      0.202459   \n",
            "Rating Online                         0.191561      0.206727   \n",
            "LAN Rating                            0.343749      0.287288   \n",
            "Major Rating                          0.442761      0.479956   \n",
            "All Time Maps Played                  0.357082      0.500828   \n",
            "Online Maps Played                   -0.016912      0.161847   \n",
            "Lan Maps Played                       0.599879      0.661650   \n",
            "Major Maps Played                     0.375178      0.342187   \n",
            "Matches Won                           1.000000      0.791551   \n",
            "Matches Lost                          0.791551      1.000000   \n",
            "Team Matches Won                      0.815974      0.618218   \n",
            "Team Matches Lost                     0.495271      0.681553   \n",
            "Player/Team Matches Won               0.931758      0.727288   \n",
            "Player/Team Matches Lost              0.723714      0.865213   \n",
            "Match Number                         -0.025494     -0.048445   \n",
            "Result                                0.241883      0.153500   \n",
            "\n",
            "                                   Team Matches Won  Team Matches Lost  \\\n",
            "KD Diff                                    0.169550           0.089751   \n",
            "ADR                                        0.120889           0.060511   \n",
            "KAST                                       0.199551           0.116174   \n",
            "Rating                                     0.185862           0.098740   \n",
            "Kills                                      0.100653           0.054462   \n",
            "Deaths                                    -0.019706          -0.009148   \n",
            "Rating 2.0                                 0.052349          -0.085956   \n",
            "KPR                                        0.046207          -0.091701   \n",
            "HS                                         0.048618          -0.101040   \n",
            "Maps Played_x                             -0.071898          -0.146722   \n",
            "DPR                                        0.007462          -0.134296   \n",
            "Rounds Contributed                         0.039999          -0.106200   \n",
            "Rounds played                              0.314460           0.364268   \n",
            "Total kills                                0.299484           0.359191   \n",
            "Total deaths                               0.291491           0.358718   \n",
            "Assists / round                            0.007146           0.081054   \n",
            "KD ratio                                   0.093783           0.041663   \n",
            "Deaths / round                            -0.049392           0.033636   \n",
            "Damage / round                             0.093184           0.111356   \n",
            "Saved by teammate / round                 -0.018245           0.028574   \n",
            "Grenade dmg / round                       -0.070552          -0.018115   \n",
            "Saved teammate / round                     0.049260           0.101191   \n",
            "Maps Played_y                              0.298323           0.360169   \n",
            "Rating 1.0                                 0.027209          -0.038939   \n",
            "First kill in won rounds                   0.044188           0.071980   \n",
            "Opening kill rating                        0.063844           0.059509   \n",
            "Opening kill ratio                         0.013246          -0.011280   \n",
            "Team win percent after first kill          0.133643           0.102288   \n",
            "Total opening deaths                       0.271749           0.329926   \n",
            "Total opening kills                        0.294413           0.338275   \n",
            "Rating All Time                            0.115551           0.081153   \n",
            "Rating Online                              0.099097           0.087875   \n",
            "LAN Rating                                 0.240133           0.152880   \n",
            "Major Rating                               0.338613           0.268000   \n",
            "All Time Maps Played                       0.294236           0.356119   \n",
            "Online Maps Played                        -0.067837           0.062117   \n",
            "Lan Maps Played                            0.546463           0.521717   \n",
            "Major Maps Played                          0.347749           0.264613   \n",
            "Matches Won                                0.815974           0.495271   \n",
            "Matches Lost                               0.618218           0.681553   \n",
            "Team Matches Won                           1.000000           0.717914   \n",
            "Team Matches Lost                          0.717914           1.000000   \n",
            "Player/Team Matches Won                    0.843787           0.543183   \n",
            "Player/Team Matches Lost                   0.629532           0.693309   \n",
            "Match Number                              -0.029490          -0.059936   \n",
            "Result                                     0.250204           0.129780   \n",
            "\n",
            "                                   Player/Team Matches Won  \\\n",
            "KD Diff                                           0.211694   \n",
            "ADR                                               0.203111   \n",
            "KAST                                              0.199208   \n",
            "Rating                                            0.230023   \n",
            "Kills                                             0.123804   \n",
            "Deaths                                           -0.026632   \n",
            "Rating 2.0                                        0.193761   \n",
            "KPR                                               0.188621   \n",
            "HS                                                0.159123   \n",
            "Maps Played_x                                    -0.029871   \n",
            "DPR                                               0.137874   \n",
            "Rounds Contributed                                0.177241   \n",
            "Rounds played                                     0.373252   \n",
            "Total kills                                       0.349036   \n",
            "Total deaths                                      0.340035   \n",
            "Assists / round                                   0.041920   \n",
            "KD ratio                                          0.166922   \n",
            "Deaths / round                                   -0.067706   \n",
            "Damage / round                                    0.203286   \n",
            "Saved by teammate / round                        -0.041742   \n",
            "Grenade dmg / round                              -0.030890   \n",
            "Saved teammate / round                            0.094007   \n",
            "Maps Played_y                                     0.347718   \n",
            "Rating 1.0                                        0.117231   \n",
            "First kill in won rounds                          0.108503   \n",
            "Opening kill rating                               0.141950   \n",
            "Opening kill ratio                                0.086113   \n",
            "Team win percent after first kill                 0.202519   \n",
            "Total opening deaths                              0.313316   \n",
            "Total opening kills                               0.358207   \n",
            "Rating All Time                                   0.190804   \n",
            "Rating Online                                     0.176581   \n",
            "LAN Rating                                        0.306392   \n",
            "Major Rating                                      0.382280   \n",
            "All Time Maps Played                              0.344839   \n",
            "Online Maps Played                               -0.019321   \n",
            "Lan Maps Played                                   0.582220   \n",
            "Major Maps Played                                 0.352397   \n",
            "Matches Won                                       0.931758   \n",
            "Matches Lost                                      0.727288   \n",
            "Team Matches Won                                  0.843787   \n",
            "Team Matches Lost                                 0.543183   \n",
            "Player/Team Matches Won                           1.000000   \n",
            "Player/Team Matches Lost                          0.826729   \n",
            "Match Number                                      0.008482   \n",
            "Result                                            0.228949   \n",
            "\n",
            "                                   Player/Team Matches Lost  Match Number  \\\n",
            "KD Diff                                            0.151488 -7.481418e-04   \n",
            "ADR                                                0.181856 -4.009636e-03   \n",
            "KAST                                               0.134676  2.550260e-02   \n",
            "Rating                                             0.171695  2.250949e-03   \n",
            "Kills                                              0.088534 -2.595751e-02   \n",
            "Deaths                                            -0.019123 -2.761333e-02   \n",
            "Rating 2.0                                         0.111731  1.448415e-01   \n",
            "KPR                                                0.105020  1.466245e-01   \n",
            "HS                                                 0.082147  1.508767e-01   \n",
            "Maps Played_x                                     -0.053294  1.269121e-01   \n",
            "DPR                                                0.062048  1.504254e-01   \n",
            "Rounds Contributed                                 0.093236  1.498511e-01   \n",
            "Rounds played                                      0.467379 -1.332423e-01   \n",
            "Total kills                                        0.452461 -1.433376e-01   \n",
            "Total deaths                                       0.448547 -1.359864e-01   \n",
            "Assists / round                                    0.169430 -1.587443e-02   \n",
            "KD ratio                                           0.122351  2.837551e-02   \n",
            "Deaths / round                                     0.010011  2.651835e-02   \n",
            "Damage / round                                     0.250084  6.448679e-02   \n",
            "Saved by teammate / round                          0.034752  3.582159e-02   \n",
            "Grenade dmg / round                                0.046297  4.595760e-02   \n",
            "Saved teammate / round                             0.149537  7.708979e-02   \n",
            "Maps Played_y                                      0.452642 -1.432885e-01   \n",
            "Rating 1.0                                         0.064810  6.719964e-02   \n",
            "First kill in won rounds                           0.113030  3.477149e-02   \n",
            "Opening kill rating                                0.121645  3.538928e-02   \n",
            "Opening kill ratio                                 0.051942  2.409898e-02   \n",
            "Team win percent after first kill                  0.200181 -3.118187e-02   \n",
            "Total opening deaths                               0.407228 -1.179692e-01   \n",
            "Total opening kills                                0.437160 -1.203248e-01   \n",
            "Rating All Time                                    0.164088  3.674789e-02   \n",
            "Rating Online                                      0.174484  4.046227e-02   \n",
            "LAN Rating                                         0.233324  2.427335e-02   \n",
            "Major Rating                                       0.384946 -1.218500e-02   \n",
            "All Time Maps Played                               0.450805 -1.430484e-01   \n",
            "Online Maps Played                                 0.126406 -1.499799e-01   \n",
            "Lan Maps Played                                    0.614249 -8.844986e-02   \n",
            "Major Maps Played                                  0.302512 -6.287392e-02   \n",
            "Matches Won                                        0.723714 -2.549412e-02   \n",
            "Matches Lost                                       0.865213 -4.844529e-02   \n",
            "Team Matches Won                                   0.629532 -2.949034e-02   \n",
            "Team Matches Lost                                  0.693309 -5.993628e-02   \n",
            "Player/Team Matches Won                            0.826729  8.481570e-03   \n",
            "Player/Team Matches Lost                           1.000000 -2.077316e-03   \n",
            "Match Number                                      -0.002077  1.000000e+00   \n",
            "Result                                             0.138097 -1.981935e-16   \n",
            "\n",
            "                                         Result  \n",
            "KD Diff                            4.971173e-01  \n",
            "ADR                                3.341740e-01  \n",
            "KAST                               5.399032e-01  \n",
            "Rating                             5.340154e-01  \n",
            "Kills                              1.737069e-01  \n",
            "Deaths                            -1.895908e-01  \n",
            "Rating 2.0                         5.036722e-02  \n",
            "KPR                                4.668959e-02  \n",
            "HS                                 3.573806e-02  \n",
            "Maps Played_x                      4.143687e-03  \n",
            "DPR                                3.301660e-02  \n",
            "Rounds Contributed                 4.784969e-02  \n",
            "Rounds played                      6.509351e-02  \n",
            "Total kills                        6.098947e-02  \n",
            "Total deaths                       5.587951e-02  \n",
            "Assists / round                   -9.313844e-03  \n",
            "KD ratio                           4.169345e-02  \n",
            "Deaths / round                    -4.295708e-02  \n",
            "Damage / round                     2.389711e-02  \n",
            "Saved by teammate / round         -4.316243e-02  \n",
            "Grenade dmg / round               -1.196919e-02  \n",
            "Saved teammate / round            -1.342845e-02  \n",
            "Maps Played_y                      5.917032e-02  \n",
            "Rating 1.0                         3.086184e-02  \n",
            "First kill in won rounds           1.596729e-02  \n",
            "Opening kill rating                2.463899e-02  \n",
            "Opening kill ratio                 1.885231e-02  \n",
            "Team win percent after first kill  4.897527e-02  \n",
            "Total opening deaths               5.340811e-02  \n",
            "Total opening kills                6.306032e-02  \n",
            "Rating All Time                    3.904779e-02  \n",
            "Rating Online                      3.452565e-02  \n",
            "LAN Rating                         7.872507e-02  \n",
            "Major Rating                       1.523225e-01  \n",
            "All Time Maps Played               5.842174e-02  \n",
            "Online Maps Played                -2.010077e-02  \n",
            "Lan Maps Played                    1.149529e-01  \n",
            "Major Maps Played                  9.325674e-02  \n",
            "Matches Won                        2.418832e-01  \n",
            "Matches Lost                       1.535005e-01  \n",
            "Team Matches Won                   2.502043e-01  \n",
            "Team Matches Lost                  1.297802e-01  \n",
            "Player/Team Matches Won            2.289494e-01  \n",
            "Player/Team Matches Lost           1.380965e-01  \n",
            "Match Number                      -1.981935e-16  \n",
            "Result                             1.000000e+00  \n",
            "\n",
            "[46 rows x 46 columns]\n"
          ]
        }
      ],
      "source": [
        "label_encoder = LabelEncoder()\n",
        "cat_df['Player'] = label_encoder.fit_transform(cat_df['Player'])\n",
        "cat_df['Team'] = label_encoder.fit_transform(cat_df['Team'])\n",
        "label_encoder = LabelEncoder()\n",
        "df['Player'] = label_encoder.fit_transform(df['Player'])\n",
        "df['Team'] = label_encoder.fit_transform(df['Team'])\n",
        "correlation_matrix = cont_df.corr()\n",
        "\n",
        "print(\"Correlation Matrix:\")\n",
        "print(correlation_matrix)\n",
        "scaler = MinMaxScaler()\n",
        "df = pd.DataFrame(scaler.fit_transform(df), columns=df.columns)"
      ]
    },
    {
      "cell_type": "code",
      "execution_count": null,
      "metadata": {},
      "outputs": [],
      "source": [
        "# Using RFE\n",
        "X = df.drop('Result', axis=1)\n",
        "y = df['Result']\n",
        "model = LogisticRegression()\n",
        "\n",
        "selector = RFE(model, n_features_to_select=15)\n",
        "\n",
        "selector.fit(X, y)\n",
        "\n",
        "selected_features = X.columns[selector.support_]\n",
        "\n",
        "feature_ranking = selector.ranking_\n",
        "\n",
        "print(\"Selected features:\")\n",
        "print(selected_features)"
      ]
    },
    {
      "cell_type": "code",
      "execution_count": 72,
      "metadata": {},
      "outputs": [],
      "source": [
        "selected_columns_kbest = ['KD Diff', 'ADR', 'KAST', 'Rating', 'Kills', 'Deaths', 'Major Rating',\n",
        "       'Lan Maps Played', 'Major Maps Played', 'Matches Won', 'Matches Lost',\n",
        "       'Team Matches Won', 'Team Matches Lost', 'Player/Team Matches Won',\n",
        "       'Player/Team Matches Lost']\n",
        "selected_columns = ['KD Diff', 'ADR', 'KAST', 'Rating', 'Kills', 'Deaths',\n",
        "       'Assists / round', 'Deaths / round', 'Saved teammate / round',\n",
        "       'Total opening deaths', 'Total opening kills', 'LAN Rating',\n",
        "       'Matches Won', 'Matches Lost', 'Team Matches Won','Result']\n",
        "df_new = df[selected_columns].copy()"
      ]
    },
    {
      "cell_type": "code",
      "execution_count": 77,
      "metadata": {},
      "outputs": [
        {
          "name": "stdout",
          "output_type": "stream",
          "text": [
            "Epoch 1/50\n",
            "692/692 [==============================] - 1s 1ms/step - loss: 0.5010 - accuracy: 0.7542 - val_loss: 0.4979 - val_accuracy: 0.7461\n",
            "Epoch 2/50\n",
            "692/692 [==============================] - 1s 821us/step - loss: 0.4646 - accuracy: 0.7743 - val_loss: 0.5007 - val_accuracy: 0.7500\n",
            "Epoch 3/50\n",
            "692/692 [==============================] - 1s 832us/step - loss: 0.4453 - accuracy: 0.7882 - val_loss: 0.4373 - val_accuracy: 0.7826\n",
            "Epoch 4/50\n",
            "692/692 [==============================] - 1s 819us/step - loss: 0.4388 - accuracy: 0.7905 - val_loss: 0.4822 - val_accuracy: 0.7591\n",
            "Epoch 5/50\n",
            "692/692 [==============================] - 1s 821us/step - loss: 0.4315 - accuracy: 0.7902 - val_loss: 0.4644 - val_accuracy: 0.7734\n",
            "Epoch 6/50\n",
            "692/692 [==============================] - 1s 876us/step - loss: 0.4304 - accuracy: 0.7914 - val_loss: 0.4259 - val_accuracy: 0.7982\n",
            "Epoch 7/50\n",
            "692/692 [==============================] - 1s 880us/step - loss: 0.4252 - accuracy: 0.7957 - val_loss: 0.4365 - val_accuracy: 0.7917\n",
            "Epoch 8/50\n",
            "692/692 [==============================] - 1s 874us/step - loss: 0.4244 - accuracy: 0.7943 - val_loss: 0.4704 - val_accuracy: 0.7695\n",
            "Epoch 9/50\n",
            "692/692 [==============================] - 1s 813us/step - loss: 0.4207 - accuracy: 0.8021 - val_loss: 0.4261 - val_accuracy: 0.7878\n",
            "Epoch 10/50\n",
            "692/692 [==============================] - 1s 819us/step - loss: 0.4206 - accuracy: 0.7976 - val_loss: 0.4285 - val_accuracy: 0.7982\n",
            "Epoch 11/50\n",
            "692/692 [==============================] - 1s 819us/step - loss: 0.4152 - accuracy: 0.7979 - val_loss: 0.4245 - val_accuracy: 0.7995\n",
            "Epoch 12/50\n",
            "692/692 [==============================] - 1s 815us/step - loss: 0.4173 - accuracy: 0.7993 - val_loss: 0.4486 - val_accuracy: 0.7799\n",
            "Epoch 13/50\n",
            "692/692 [==============================] - 1s 818us/step - loss: 0.4145 - accuracy: 0.8012 - val_loss: 0.4808 - val_accuracy: 0.7604\n",
            "Epoch 14/50\n",
            "692/692 [==============================] - 1s 847us/step - loss: 0.4172 - accuracy: 0.8001 - val_loss: 0.4149 - val_accuracy: 0.7969\n",
            "Epoch 15/50\n",
            "692/692 [==============================] - 1s 829us/step - loss: 0.4108 - accuracy: 0.8002 - val_loss: 0.4159 - val_accuracy: 0.7956\n",
            "Epoch 16/50\n",
            "692/692 [==============================] - 1s 832us/step - loss: 0.4136 - accuracy: 0.8021 - val_loss: 0.4135 - val_accuracy: 0.8008\n",
            "Epoch 17/50\n",
            "692/692 [==============================] - 1s 829us/step - loss: 0.4090 - accuracy: 0.8025 - val_loss: 0.4124 - val_accuracy: 0.7943\n",
            "Epoch 18/50\n",
            "692/692 [==============================] - 1s 828us/step - loss: 0.4109 - accuracy: 0.8003 - val_loss: 0.4364 - val_accuracy: 0.7995\n",
            "Epoch 19/50\n",
            "692/692 [==============================] - 1s 828us/step - loss: 0.4107 - accuracy: 0.8005 - val_loss: 0.4169 - val_accuracy: 0.7865\n",
            "Epoch 20/50\n",
            "692/692 [==============================] - 1s 825us/step - loss: 0.4091 - accuracy: 0.8027 - val_loss: 0.4200 - val_accuracy: 0.8073\n",
            "Epoch 21/50\n",
            "692/692 [==============================] - 1s 832us/step - loss: 0.4085 - accuracy: 0.8050 - val_loss: 0.4120 - val_accuracy: 0.7969\n",
            "Epoch 22/50\n",
            "692/692 [==============================] - 1s 835us/step - loss: 0.4108 - accuracy: 0.8012 - val_loss: 0.4422 - val_accuracy: 0.7812\n",
            "Epoch 23/50\n",
            "692/692 [==============================] - 1s 858us/step - loss: 0.4036 - accuracy: 0.8048 - val_loss: 0.4161 - val_accuracy: 0.8008\n",
            "Epoch 24/50\n",
            "692/692 [==============================] - 1s 835us/step - loss: 0.4053 - accuracy: 0.8032 - val_loss: 0.4174 - val_accuracy: 0.7943\n",
            "Epoch 25/50\n",
            "692/692 [==============================] - 1s 831us/step - loss: 0.4044 - accuracy: 0.8015 - val_loss: 0.4146 - val_accuracy: 0.7969\n",
            "Epoch 26/50\n",
            "692/692 [==============================] - 1s 840us/step - loss: 0.4025 - accuracy: 0.8024 - val_loss: 0.4174 - val_accuracy: 0.7982\n",
            "Training Accuracy: 0.80\n",
            "Validation Accuracy: 0.80\n",
            "60/60 [==============================] - 0s 559us/step\n",
            "Testing Accuracy: 0.81\n",
            "Classification Report:\n",
            "              precision    recall  f1-score   support\n",
            "\n",
            "         0.0       0.80      0.83      0.82       997\n",
            "         1.0       0.81      0.78      0.80       923\n",
            "\n",
            "    accuracy                           0.81      1920\n",
            "   macro avg       0.81      0.81      0.81      1920\n",
            "weighted avg       0.81      0.81      0.81      1920\n",
            "\n"
          ]
        }
      ],
      "source": [
        "X = df_new.drop('Result', axis=1)\n",
        "y = df_new['Result']\n",
        "\n",
        "\n",
        "X_train, X_test, y_train, y_test = train_test_split(X, y, test_size=0.2, random_state=42)\n",
        "\n",
        "model = Sequential()\n",
        "\n",
        "model.add(Dense(200, activation='relu', input_shape=(X_train.shape[1],)))\n",
        "model.add(Dense(100, activation='relu'))\n",
        "model.add(Dense(100, activation='relu'))\n",
        "model.add(Dense(1, activation='sigmoid'))\n",
        "\n",
        "model.compile(optimizer='adam', loss='binary_crossentropy', metrics=['accuracy'])\n",
        "\n",
        "early_stopping = EarlyStopping(monitor='val_loss', patience=5, restore_best_weights=True)\n",
        "\n",
        "history = model.fit(X_train, y_train, epochs=50, batch_size=10, validation_split=0.10, callbacks=[early_stopping])\n",
        "\n",
        "train_accuracy = history.history['accuracy'][-1]\n",
        "print(f\"Training Accuracy: {train_accuracy:.2f}\")\n",
        "\n",
        "val_accuracy = history.history['val_accuracy'][-1]\n",
        "print(f\"Validation Accuracy: {val_accuracy:.2f}\")\n",
        "\n",
        "y_pred_prob = model.predict(X_test)\n",
        "y_pred = (y_pred_prob > 0.5).astype(int)\n",
        "\n",
        "accuracy = accuracy_score(y_test, y_pred)\n",
        "report = classification_report(y_test, y_pred)\n",
        "\n",
        "print(f\"Testing Accuracy: {accuracy:.2f}\")\n",
        "print(\"Classification Report:\")\n",
        "print(report)\n",
        "\n"
      ]
    },
    {
      "cell_type": "code",
      "execution_count": 78,
      "metadata": {},
      "outputs": [
        {
          "data": {
            "image/png": "[encoded data removed]",
            "text/plain": [
              "<Figure size 640x480 with 1 Axes>"
            ]
          },
          "metadata": {},
          "output_type": "display_data"
        },
        {
          "name": "stdout",
          "output_type": "stream",
          "text": [
            "Training Accuracy: 0.80\n",
            "Validation Accuracy: 0.80\n"
          ]
        }
      ],
      "source": [
        "plt.plot(history.history['loss'], label='Training Loss')\n",
        "plt.plot(history.history['val_loss'], label='Validation Loss')\n",
        "plt.title('Training and Validation Loss Over Time')\n",
        "plt.xlabel('Epoch')\n",
        "plt.ylabel('Loss')\n",
        "plt.legend()\n",
        "plt.show()\n",
        "\n",
        "train_accuracy = history.history['accuracy'][-1]\n",
        "print(f\"Training Accuracy: {train_accuracy:.2f}\")\n",
        "\n",
        "val_accuracy = history.history['val_accuracy'][-1]\n",
        "print(f\"Validation Accuracy: {val_accuracy:.2f}\")\n"
      ]
    },
    {
      "cell_type": "code",
      "execution_count": null,
      "metadata": {},
      "outputs": [],
      "source": [
        "#There is not any significant overfitting as your validation loss/accuracy is close to training loss/accuracy. Use Regularization \n",
        "#The spike in that particular epoch doesn't necessarily mean overfitting as your network was able to recover from it later."
      ]
    },
    {
      "cell_type": "code",
      "execution_count": 79,
      "metadata": {},
      "outputs": [
        {
          "name": "stdout",
          "output_type": "stream",
          "text": [
            "Epoch 1/50\n",
            "692/692 [==============================] - 1s 997us/step - loss: 0.8251 - accuracy: 0.7148 - val_loss: 0.5650 - val_accuracy: 0.7656\n",
            "Epoch 2/50\n",
            "692/692 [==============================] - 1s 832us/step - loss: 0.5559 - accuracy: 0.7688 - val_loss: 0.5625 - val_accuracy: 0.7669\n",
            "Epoch 3/50\n",
            "692/692 [==============================] - 1s 824us/step - loss: 0.5403 - accuracy: 0.7730 - val_loss: 0.5329 - val_accuracy: 0.7604\n",
            "Epoch 4/50\n",
            "692/692 [==============================] - 1s 822us/step - loss: 0.5306 - accuracy: 0.7755 - val_loss: 0.5196 - val_accuracy: 0.7682\n",
            "Epoch 5/50\n",
            "692/692 [==============================] - 1s 828us/step - loss: 0.5234 - accuracy: 0.7760 - val_loss: 0.5268 - val_accuracy: 0.7656\n",
            "Epoch 6/50\n",
            "692/692 [==============================] - 1s 825us/step - loss: 0.5156 - accuracy: 0.7782 - val_loss: 0.5097 - val_accuracy: 0.7799\n",
            "Epoch 7/50\n",
            "692/692 [==============================] - 1s 840us/step - loss: 0.5135 - accuracy: 0.7824 - val_loss: 0.5152 - val_accuracy: 0.7799\n",
            "Epoch 8/50\n",
            "692/692 [==============================] - 1s 828us/step - loss: 0.5134 - accuracy: 0.7776 - val_loss: 0.5266 - val_accuracy: 0.7826\n",
            "Epoch 9/50\n",
            "692/692 [==============================] - 1s 841us/step - loss: 0.5087 - accuracy: 0.7827 - val_loss: 0.5044 - val_accuracy: 0.7773\n",
            "Epoch 10/50\n",
            "692/692 [==============================] - 1s 850us/step - loss: 0.5086 - accuracy: 0.7807 - val_loss: 0.5016 - val_accuracy: 0.7812\n",
            "Epoch 11/50\n",
            "692/692 [==============================] - 1s 829us/step - loss: 0.5080 - accuracy: 0.7798 - val_loss: 0.5148 - val_accuracy: 0.7878\n",
            "Epoch 12/50\n",
            "692/692 [==============================] - 1s 827us/step - loss: 0.5051 - accuracy: 0.7786 - val_loss: 0.5083 - val_accuracy: 0.7786\n",
            "Epoch 13/50\n",
            "692/692 [==============================] - 1s 828us/step - loss: 0.5038 - accuracy: 0.7840 - val_loss: 0.4974 - val_accuracy: 0.7760\n",
            "Epoch 14/50\n",
            "692/692 [==============================] - 1s 824us/step - loss: 0.5023 - accuracy: 0.7821 - val_loss: 0.4980 - val_accuracy: 0.7773\n",
            "Epoch 15/50\n",
            "692/692 [==============================] - 1s 840us/step - loss: 0.5012 - accuracy: 0.7839 - val_loss: 0.4940 - val_accuracy: 0.7786\n",
            "Epoch 16/50\n",
            "692/692 [==============================] - 1s 832us/step - loss: 0.4992 - accuracy: 0.7810 - val_loss: 0.4915 - val_accuracy: 0.7812\n",
            "Epoch 17/50\n",
            "692/692 [==============================] - 1s 825us/step - loss: 0.4981 - accuracy: 0.7839 - val_loss: 0.4932 - val_accuracy: 0.7839\n",
            "Epoch 18/50\n",
            "692/692 [==============================] - 1s 827us/step - loss: 0.4956 - accuracy: 0.7898 - val_loss: 0.4918 - val_accuracy: 0.7799\n",
            "Epoch 19/50\n",
            "692/692 [==============================] - 1s 829us/step - loss: 0.4933 - accuracy: 0.7860 - val_loss: 0.4917 - val_accuracy: 0.7839\n",
            "Epoch 20/50\n",
            "692/692 [==============================] - 1s 837us/step - loss: 0.4966 - accuracy: 0.7820 - val_loss: 0.5030 - val_accuracy: 0.7917\n",
            "Epoch 21/50\n",
            "692/692 [==============================] - 1s 829us/step - loss: 0.4958 - accuracy: 0.7852 - val_loss: 0.4869 - val_accuracy: 0.7786\n",
            "Epoch 22/50\n",
            "692/692 [==============================] - 1s 827us/step - loss: 0.4965 - accuracy: 0.7869 - val_loss: 0.5384 - val_accuracy: 0.7734\n",
            "Epoch 23/50\n",
            "692/692 [==============================] - 1s 821us/step - loss: 0.4943 - accuracy: 0.7837 - val_loss: 0.4988 - val_accuracy: 0.7878\n",
            "Epoch 24/50\n",
            "692/692 [==============================] - 1s 829us/step - loss: 0.4927 - accuracy: 0.7902 - val_loss: 0.5019 - val_accuracy: 0.7904\n",
            "Epoch 25/50\n",
            "692/692 [==============================] - 1s 821us/step - loss: 0.4950 - accuracy: 0.7844 - val_loss: 0.5168 - val_accuracy: 0.7865\n",
            "Epoch 26/50\n",
            "692/692 [==============================] - 1s 825us/step - loss: 0.4909 - accuracy: 0.7852 - val_loss: 0.4849 - val_accuracy: 0.7826\n",
            "Epoch 27/50\n",
            "692/692 [==============================] - 1s 825us/step - loss: 0.4900 - accuracy: 0.7870 - val_loss: 0.5100 - val_accuracy: 0.7773\n",
            "Epoch 28/50\n",
            "692/692 [==============================] - 1s 829us/step - loss: 0.4931 - accuracy: 0.7834 - val_loss: 0.4831 - val_accuracy: 0.7865\n",
            "Epoch 29/50\n",
            "692/692 [==============================] - 1s 832us/step - loss: 0.4891 - accuracy: 0.7847 - val_loss: 0.4871 - val_accuracy: 0.7826\n",
            "Epoch 30/50\n",
            "692/692 [==============================] - 1s 816us/step - loss: 0.4890 - accuracy: 0.7876 - val_loss: 0.5193 - val_accuracy: 0.7799\n",
            "Epoch 31/50\n",
            "692/692 [==============================] - 1s 816us/step - loss: 0.4890 - accuracy: 0.7860 - val_loss: 0.5066 - val_accuracy: 0.7891\n",
            "Epoch 32/50\n",
            "692/692 [==============================] - 1s 853us/step - loss: 0.4870 - accuracy: 0.7873 - val_loss: 0.4846 - val_accuracy: 0.7839\n",
            "Epoch 33/50\n",
            "692/692 [==============================] - 1s 838us/step - loss: 0.4888 - accuracy: 0.7840 - val_loss: 0.4907 - val_accuracy: 0.7878\n",
            "Training Accuracy: 0.78\n",
            "Validation Accuracy: 0.79\n",
            "60/60 [==============================] - 0s 593us/step\n",
            "Testing Accuracy: 0.80\n",
            "Classification Report:\n",
            "              precision    recall  f1-score   support\n",
            "\n",
            "         0.0       0.79      0.83      0.81       997\n",
            "         1.0       0.81      0.76      0.78       923\n",
            "\n",
            "    accuracy                           0.80      1920\n",
            "   macro avg       0.80      0.79      0.79      1920\n",
            "weighted avg       0.80      0.80      0.79      1920\n",
            "\n"
          ]
        }
      ],
      "source": [
        "from keras import regularizers\n",
        "\n",
        "X = df_new.drop('Result', axis=1)\n",
        "y = df_new['Result']\n",
        "\n",
        "X_train, X_test, y_train, y_test = train_test_split(X, y, test_size=0.2, random_state=42)\n",
        "\n",
        "model = Sequential()\n",
        "\n",
        "# Add L2 regularization to the Dense layers\n",
        "model.add(Dense(200, activation='relu', input_shape=(X_train.shape[1],), kernel_regularizer=regularizers.l2(0.01)))\n",
        "model.add(Dense(100, activation='relu', kernel_regularizer=regularizers.l2(0.01)))\n",
        "model.add(Dense(100, activation='relu', kernel_regularizer=regularizers.l2(0.01)))\n",
        "model.add(Dense(1, activation='sigmoid'))\n",
        "\n",
        "model.compile(optimizer='adam', loss='binary_crossentropy', metrics=['accuracy'])\n",
        "\n",
        "early_stopping = EarlyStopping(monitor='val_loss', patience=5, restore_best_weights=True)\n",
        "\n",
        "history = model.fit(X_train, y_train, epochs=50, batch_size=10, validation_split=0.10, callbacks=[early_stopping])\n",
        "\n",
        "train_accuracy = history.history['accuracy'][-1]\n",
        "print(f\"Training Accuracy: {train_accuracy:.2f}\")\n",
        "\n",
        "val_accuracy = history.history['val_accuracy'][-1]\n",
        "print(f\"Validation Accuracy: {val_accuracy:.2f}\")\n",
        "\n",
        "y_pred_prob = model.predict(X_test)\n",
        "y_pred = (y_pred_prob > 0.5).astype(int)\n",
        "\n",
        "accuracy = accuracy_score(y_test, y_pred)\n",
        "report = classification_report(y_test, y_pred)\n",
        "\n",
        "print(f\"Testing Accuracy: {accuracy:.2f}\")\n",
        "print(\"Classification Report:\")\n",
        "print(report)\n"
      ]
    },
    {
      "cell_type": "code",
      "execution_count": 80,
      "metadata": {},
      "outputs": [
        {
          "data": {
            "image/png": "[encoded data removed]",
            "text/plain": [
              "<Figure size 640x480 with 1 Axes>"
            ]
          },
          "metadata": {},
          "output_type": "display_data"
        },
        {
          "name": "stdout",
          "output_type": "stream",
          "text": [
            "Training Accuracy: 0.78\n",
            "Validation Accuracy: 0.79\n"
          ]
        }
      ],
      "source": [
        "plt.plot(history.history['loss'], label='Training Loss')\n",
        "plt.plot(history.history['val_loss'], label='Validation Loss')\n",
        "plt.title('Training and Validation Loss Over Time')\n",
        "plt.xlabel('Epoch')\n",
        "plt.ylabel('Loss')\n",
        "plt.legend()\n",
        "plt.show()\n",
        "\n",
        "train_accuracy = history.history['accuracy'][-1]\n",
        "print(f\"Training Accuracy: {train_accuracy:.2f}\")\n",
        "\n",
        "val_accuracy = history.history['val_accuracy'][-1]\n",
        "print(f\"Validation Accuracy: {val_accuracy:.2f}\")"
      ]
    },
    {
      "cell_type": "code",
      "execution_count": 81,
      "metadata": {},
      "outputs": [
        {
          "data": {
            "image/png": "[encoded data removed]",
            "text/plain": [
              "<Figure size 640x480 with 1 Axes>"
            ]
          },
          "metadata": {},
          "output_type": "display_data"
        }
      ],
      "source": [
        "cm = confusion_matrix(y_test, y_pred)\n",
        "sns.heatmap(cm, annot=True, fmt=\"d\", cmap=\"Blues\", cbar=False)\n",
        "plt.xlabel('Predicted')\n",
        "plt.ylabel('True')\n",
        "plt.show()"
      ]
    },
    {
      "cell_type": "code",
      "execution_count": 83,
      "metadata": {},
      "outputs": [
        {
          "data": {
            "image/png": "[encoded data removed]",
            "text/plain": [
              "<Figure size 640x480 with 1 Axes>"
            ]
          },
          "metadata": {},
          "output_type": "display_data"
        }
      ],
      "source": [
        "from sklearn.metrics import precision_recall_curve\n",
        "from sklearn.metrics import roc_curve, auc\n",
        "\n",
        "fpr, tpr, thresholds = roc_curve(y_test, y_pred_prob)\n",
        "roc_auc = auc(fpr, tpr)\n",
        "\n",
        "plt.plot(fpr, tpr, label=f'AUC = {roc_auc:.2f}')\n",
        "plt.plot([0, 1], [0, 1], linestyle='--', color='gray', label='Random')\n",
        "plt.xlabel('False Positive Rate')\n",
        "plt.ylabel('True Positive Rate')\n",
        "plt.legend()\n",
        "plt.show()"
      ]
    },
    {
      "cell_type": "code",
      "execution_count": 84,
      "metadata": {},
      "outputs": [
        {
          "data": {
            "image/png": "[encoded data removed]",
            "text/plain": [
              "<Figure size 640x480 with 1 Axes>"
            ]
          },
          "metadata": {},
          "output_type": "display_data"
        }
      ],
      "source": [
        "precision, recall, _ = precision_recall_curve(y_test, y_pred_prob)\n",
        "plt.plot(recall, precision, label='Precision-Recall curve')\n",
        "plt.xlabel('Recall')\n",
        "plt.ylabel('Precision')\n",
        "plt.legend()\n",
        "plt.show()"
      ]
    }
  ],
  "metadata": {
    "colab": {
      "provenance": []
    },
    "kernelspec": {
      "display_name": "Python 3",
      "name": "python3"
    },
    "language_info": {
      "codemirror_mode": {
        "name": "ipython",
        "version": 3
      },
      "file_extension": ".py",
      "mimetype": "text/x-python",
      "name": "python",
      "nbconvert_exporter": "python",
      "pygments_lexer": "ipython3",
      "version": "3.11.7"
    }
  },
  "nbformat": 4,
  "nbformat_minor": 0
}
