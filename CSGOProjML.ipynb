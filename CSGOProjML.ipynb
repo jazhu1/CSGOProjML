{
  "cells": [
    {
      "cell_type": "code",
      "execution_count": 3,
      "metadata": {
        "id": "RJaFFXEpjS54"
      },
      "outputs": [
        {
          "name": "stdout",
          "output_type": "stream",
          "text": [
            "WARNING:tensorflow:From C:\\Users\\james\\AppData\\Local\\Packages\\PythonSoftwareFoundation.Python.3.11_qbz5n2kfra8p0\\LocalCache\\local-packages\\Python311\\site-packages\\keras\\src\\losses.py:2976: The name tf.losses.sparse_softmax_cross_entropy is deprecated. Please use tf.compat.v1.losses.sparse_softmax_cross_entropy instead.\n",
            "\n"
          ]
        }
      ],
      "source": [
        "import pandas as pd\n",
        "import xgboost as xgb\n",
        "from sklearn.metrics import accuracy_score, classification_report\n",
        "import re\n",
        "import numpy as np\n",
        "from sklearn.feature_selection import SelectKBest, f_regression\n",
        "from sklearn.preprocessing import LabelEncoder\n",
        "from sklearn.linear_model import LogisticRegression\n",
        "from sklearn.ensemble import RandomForestClassifier\n",
        "from sklearn.model_selection import RandomizedSearchCV, train_test_split\n",
        "from xgboost import XGBClassifier\n",
        "from scipy.stats import uniform, randint\n",
        "import matplotlib.pyplot as plt\n",
        "from sklearn.neighbors import KNeighborsClassifier\n",
        "from sklearn.preprocessing import MinMaxScaler\n",
        "from sklearn.feature_selection import RFE\n",
        "import seaborn as sns\n",
        "from sklearn.metrics import confusion_matrix\n",
        "from tensorflow.keras.models import Sequential\n",
        "from tensorflow.keras.layers import Dense\n",
        "from tensorflow.keras.callbacks import EarlyStopping"
      ]
    },
    {
      "cell_type": "code",
      "execution_count": 2,
      "metadata": {
        "id": "I5nThTaUSN3d"
      },
      "outputs": [],
      "source": [
        "#csv's to combine\n",
        "\n",
        "df_players = pd.read_csv('Players - Sheet1.csv')\n",
        "df_past3 = pd.read_csv('Past 3 Months Statistics - Sheet1.csv')\n",
        "df_all = pd.read_csv('All Time Statistics - Sheet1.csv')"
      ]
    },
    {
      "cell_type": "code",
      "execution_count": 3,
      "metadata": {
        "id": "M4kb5gNYZe7p"
      },
      "outputs": [],
      "source": [
        "#cleaning Players csv"
      ]
    },
    {
      "cell_type": "code",
      "execution_count": 4,
      "metadata": {
        "id": "XpdOg9XXS0C1"
      },
      "outputs": [],
      "source": [
        "selected_columns = ['Team 1','Player Full Name', 'Player', 'KD', 'KD Diff', 'ADR', 'KAST', 'Rating']\n",
        "df_players1 = df_players[selected_columns]\n",
        "selected_columns1 = ['Team 2','Player Full Name.1', 'Player.1', 'KD.1', 'KD Diff.1', 'ADR.1', 'KAST.1', 'Rating.1']\n",
        "df_players2 = df_players[selected_columns1]\n",
        "selected_columns2 = ['Team 1']\n",
        "df_team1 = df_players[selected_columns2]\n",
        "selected_columns3 = ['Team 1']\n",
        "df_team2 = df_players[selected_columns3]"
      ]
    },
    {
      "cell_type": "code",
      "execution_count": 5,
      "metadata": {
        "id": "Ecqb68aBT8W_"
      },
      "outputs": [],
      "source": [
        "df_players2 = df_players2.dropna()\n",
        "df_players1 = df_players1.dropna()\n",
        "df_players1 = df_players1.drop_duplicates()\n",
        "df_players2 = df_players2.reset_index(drop=True)\n",
        "df_players2 = df_players2.drop(3205)\n",
        "df_players2 = df_players2.drop(3214)\n",
        "df_players2 = df_players2.reset_index(drop=True)\n",
        "df_players2 = df_players2.drop(3964)\n",
        "df_players2 = df_players2.reset_index(drop=True)\n",
        "df_players1 = df_players1.reset_index(drop=True)\n",
        "df_players1 = df_players1.drop(2249)\n",
        "df_players1 = df_players1.drop(3229)\n",
        "df_players1 = df_players1.reset_index(drop=True)"
      ]
    },
    {
      "cell_type": "code",
      "execution_count": null,
      "metadata": {
        "id": "litnuMTYoMHf"
      },
      "outputs": [],
      "source": []
    },
    {
      "cell_type": "code",
      "execution_count": 6,
      "metadata": {
        "id": "XZEsjRlUoMDW"
      },
      "outputs": [],
      "source": [
        "# Quality Control"
      ]
    },
    {
      "cell_type": "code",
      "execution_count": 7,
      "metadata": {
        "id": "g6bXCRCCmL0c"
      },
      "outputs": [],
      "source": [
        "# row_3205 = df_players2.iloc[3965]  # Note that Python uses 0-based indexing, so row 3205 is at index 3204\n",
        "\n",
        "# print(\"Row 3205:\")\n",
        "# print(row_3205)"
      ]
    },
    {
      "cell_type": "code",
      "execution_count": 8,
      "metadata": {
        "id": "hp3JXpdb_iT6"
      },
      "outputs": [],
      "source": [
        "# df_players2['IsDifferent'] = df_players2['Team 2'] != df_players2['Team 2'].shift()\n",
        "\n",
        "# # Find the rows where 'IsDifferent' is True\n",
        "# rows_with_differences1 = df_players2[df_players2['IsDifferent']]\n",
        "\n",
        "# # Examine the 'Team 2' values for these rows to identify the three rows that are different\n",
        "# print(rows_with_differences1['Team 2'])\n"
      ]
    },
    {
      "cell_type": "code",
      "execution_count": 9,
      "metadata": {
        "id": "WRG5phQk_rkk"
      },
      "outputs": [],
      "source": [
        "# rows_with_differences1"
      ]
    },
    {
      "cell_type": "code",
      "execution_count": 10,
      "metadata": {
        "id": "X-azJ92a_uar"
      },
      "outputs": [],
      "source": [
        "# for index, row in rows_with_differences1.iterrows():\n",
        "#     # Check if the index does not end in 0 or 5\n",
        "#     if index % 10 != 0 and index % 10 != 5:\n",
        "#         print(f\"First instance where the row index does not end in 0 or 5 is at index {index}\")\n",
        "#         break"
      ]
    },
    {
      "cell_type": "code",
      "execution_count": 11,
      "metadata": {
        "id": "1MOR3TkyjrYK"
      },
      "outputs": [],
      "source": [
        "# row_3205 = df_players2.iloc[3205]  # Note that Python uses 0-based indexing, so row 3205 is at index 3204\n",
        "\n",
        "# print(\"Row 3205:\")\n",
        "# print(row_3205)"
      ]
    },
    {
      "cell_type": "code",
      "execution_count": 12,
      "metadata": {
        "id": "dkbsxrnLjS8J"
      },
      "outputs": [],
      "source": [
        "# start_index = 3210  # 2206 - 5\n",
        "# end_index = 3222  # 2206 + 5\n",
        "\n",
        "# # Extract the desired rows from the DataFrame\n",
        "# desired_rows = df_players2.iloc[start_index:end_index + 1]\n",
        "\n",
        "# # Print the extracted rows\n",
        "# print(desired_rows)"
      ]
    },
    {
      "cell_type": "code",
      "execution_count": 13,
      "metadata": {
        "id": "KSAcXgiWg4u3"
      },
      "outputs": [],
      "source": [
        "# start_index = 3210  # 2206 - 5\n",
        "# end_index = 3222  # 2206 + 5\n",
        "\n",
        "# # Extract the desired rows from the DataFrame\n",
        "# desired_rows = df_players2.iloc[start_index:end_index + 1]\n",
        "\n",
        "# # Print the extracted rows\n",
        "# print(desired_rows)"
      ]
    },
    {
      "cell_type": "code",
      "execution_count": 14,
      "metadata": {
        "id": "VhN_cnHr_zL2"
      },
      "outputs": [],
      "source": [
        "# start_index = 3956  # 2206 - 5\n",
        "# end_index = 3976  # 2206 + 5\n",
        "\n",
        "# # Extract the desired rows from the DataFrame\n",
        "# desired_rows = df_players2.iloc[start_index:end_index + 1]\n",
        "\n",
        "# # Print the extracted rows\n",
        "# print(desired_rows)"
      ]
    },
    {
      "cell_type": "code",
      "execution_count": 15,
      "metadata": {
        "id": "sSRe9k4quF2s"
      },
      "outputs": [],
      "source": [
        "# df_players1['IsDifferent'] = df_players1['Team 1'] != df_players1['Team 1'].shift()\n",
        "\n",
        "# # Find the rows where 'IsDifferent' is True\n",
        "# rows_with_differences = df_players1[df_players1['IsDifferent']]\n",
        "\n",
        "# # examine the 'Team 1' values for these rows to identify the three rows that are different\n",
        "# print(rows_with_differences['Team 1'])\n",
        "\n"
      ]
    },
    {
      "cell_type": "code",
      "execution_count": 16,
      "metadata": {
        "id": "e3NfRl2-vLAH"
      },
      "outputs": [],
      "source": [
        "# for index, row in rows_with_differences.iterrows():\n",
        "#     # Check if the index does not end in 0 or 5\n",
        "#     if index % 10 != 0 and index % 10 != 5:\n",
        "#         print(f\"First instance where the row index does not end in 0 or 5 is at index {index}\")\n",
        "#         break"
      ]
    },
    {
      "cell_type": "code",
      "execution_count": 17,
      "metadata": {
        "id": "Q8jm2uGChr-6"
      },
      "outputs": [],
      "source": [
        "# start_index = 2246  # 2206 - 5\n",
        "# end_index = 2256 # 2206 + 5\n",
        "\n",
        "# # Extract the desired rows from the DataFrame\n",
        "# desired_rows = df_players1.iloc[start_index:end_index + 1]\n",
        "\n",
        "# # Print the extracted rows\n",
        "# print(desired_rows)"
      ]
    },
    {
      "cell_type": "code",
      "execution_count": 18,
      "metadata": {
        "id": "xDIR2gXO8tbP"
      },
      "outputs": [],
      "source": [
        "# start_index = 3221  # 2206 - 5\n",
        "# end_index = 3241 # 2206 + 5\n",
        "\n",
        "# # Extract the desired rows from the DataFrame\n",
        "# desired_rows = df_players1.iloc[start_index:end_index + 1]\n",
        "\n",
        "# # Print the extracted rows\n",
        "# print(desired_rows)"
      ]
    },
    {
      "cell_type": "code",
      "execution_count": 19,
      "metadata": {
        "id": "VzrQ0jrRVwPR"
      },
      "outputs": [],
      "source": [
        "new_column_names = {\n",
        "    'Player Full Name.1': 'Player Full Name',\n",
        "    'Player.1': 'Player',\n",
        "    'KD.1': 'KD',\n",
        "    'KD Diff.1': 'KD Diff',\n",
        "    'ADR.1': 'ADR',\n",
        "    'KAST.1': 'KAST',\n",
        "    'Rating.1': 'Rating'\n",
        "}\n",
        "\n",
        "df_players2 = df_players2.rename(columns=new_column_names)"
      ]
    },
    {
      "cell_type": "code",
      "execution_count": null,
      "metadata": {
        "colab": {
          "base_uri": "https://localhost:8080/"
        },
        "id": "3cwX3vQ2jCfb",
        "outputId": "f5dd44b0-6f1a-44a3-9c9e-a76c1a8ae720"
      },
      "outputs": [],
      "source": [
        "chunks1 = [df_players1[i:i+5] for i in range(0, len(df_players1), 5)]\n",
        "chunks2 = [df_players2[i:i+5] for i in range(0, len(df_players2), 5)]\n",
        "\n",
        "df_total = pd.DataFrame(columns=['Player'])\n",
        "\n",
        "# Interleave the chunks from df_players1 and df_players2\n",
        "for chunk1, chunk2 in zip(chunks1, chunks2):\n",
        "    df_total = df_total.append(chunk1, ignore_index=True)\n",
        "    df_total = df_total.append(chunk2, ignore_index=True)"
      ]
    },
    {
      "cell_type": "code",
      "execution_count": 21,
      "metadata": {
        "id": "3-sT0y04VRHf"
      },
      "outputs": [],
      "source": [
        "#combining scoreboards so that team 1 is first 5 rows and team 2 are next 5\n",
        "combined_dfs1 = []\n",
        "\n",
        "# Set the chunk size\n",
        "chunk_size = 5\n",
        "\n",
        "# Iterate over the range of dataframe sizes\n",
        "for i in range(0, max(len(df_players1), len(df_players2)), chunk_size):\n",
        "    combined_dfs1.append(df_players1[i:i+chunk_size])\n",
        "    combined_dfs1.append(df_players2[i:i+chunk_size])\n",
        "\n",
        "# Concatenate the list of dataframes into a single dataframe\n",
        "combined_df1 = pd.concat(combined_dfs1, ignore_index=True)"
      ]
    },
    {
      "cell_type": "code",
      "execution_count": null,
      "metadata": {
        "colab": {
          "base_uri": "https://localhost:8080/"
        },
        "id": "4ZCTYbo_ZZSG",
        "outputId": "6edcb7d5-b570-455a-8670-181cc041ddeb"
      },
      "outputs": [],
      "source": [
        "combined_df1['Team 1'].fillna(combined_df1['Team 2'], inplace=True)\n",
        "combined_df1.drop(columns=['Team 2'], inplace=True)\n",
        "df_teams = combined_df1[['Team 1']]\n",
        "df_teams['Team'] = df_teams['Team 1'].str.split('\\n').str[0]\n",
        "\n",
        "df_teams['Team'] = df_teams['Team'].str.strip()\n",
        "df_teams['Score'] = df_teams['Team 1'].str.split('\\n').str[2]\n",
        "\n",
        "df_teams['Score'] = df_teams['Score'].str.strip()\n",
        "\n",
        "df_teams = df_teams.drop('Team 1', axis=1)\n",
        "merged_df = combined_df1.merge(df_teams, left_index=True, right_index=True)\n",
        "merged_df = merged_df.drop('Team 1', axis=1)\n",
        "merged_df[['Kills', 'Deaths']] = merged_df['KD'].str.split('-', expand=True)"
      ]
    },
    {
      "cell_type": "code",
      "execution_count": 23,
      "metadata": {
        "colab": {
          "base_uri": "https://localhost:8080/"
        },
        "id": "D8CAOa3Nd8wi",
        "outputId": "1cad8fe4-9174-4630-de29-94f092565c03"
      },
      "outputs": [
        {
          "name": "stdout",
          "output_type": "stream",
          "text": [
            "Empty DataFrame\n",
            "Columns: [Player Full Name, Player, KD, KD Diff, ADR, KAST, Rating, Team, Score, Kills, Deaths]\n",
            "Index: []\n"
          ]
        }
      ],
      "source": [
        "# Find rows with NaN values in merged_df\n",
        "nan_rows = merged_df[merged_df.isna().any(axis=1)]\n",
        "\n",
        "# Display the rows with NaN values\n",
        "print(nan_rows)\n"
      ]
    },
    {
      "cell_type": "code",
      "execution_count": 24,
      "metadata": {
        "id": "DwCe_bhieVFZ"
      },
      "outputs": [],
      "source": [
        "# merged_df = merged_df.drop(4410)"
      ]
    },
    {
      "cell_type": "code",
      "execution_count": 25,
      "metadata": {
        "id": "7sQkCHKteZ93"
      },
      "outputs": [],
      "source": [
        "# # Convert the resulting columns to integers\n",
        "merged_df['Kills'] = merged_df['Kills'].astype(int)\n",
        "merged_df['Deaths'] = merged_df['Deaths'].astype(int)\n",
        "\n",
        "# # Drop the original 'KD' column\n",
        "merged_df = merged_df.drop('KD', axis=1)"
      ]
    },
    {
      "cell_type": "code",
      "execution_count": 26,
      "metadata": {
        "id": "910PYIQVjzMI"
      },
      "outputs": [],
      "source": [
        "#cleaning df_past3"
      ]
    },
    {
      "cell_type": "code",
      "execution_count": 27,
      "metadata": {
        "colab": {
          "base_uri": "https://localhost:8080/"
        },
        "id": "rCwFOzRGkytF",
        "outputId": "70e41f49-33eb-4f88-ad87-b50d323ded32"
      },
      "outputs": [],
      "source": [
        "#cleaning past 3 months stats csv\n",
        "df_past3['Rating 2.0'] = df_past3['Rating 2.0'].str.replace('Rating 2.0\\n', '')\n",
        "df_past3['KPR'] = df_past3['KPR'].str.replace('Kills per round\\n', '')\n",
        "df_past3['HS'] = df_past3['HS'].str.replace('Headshots\\n', '')\n",
        "df_past3['Maps Played'] = df_past3['Maps Played'].str.replace('Maps played\\n', '')\n",
        "df_past3['DPR'] = df_past3['DPR'].str.replace('Deaths per round\\n', '')\n",
        "df_past3['Rounds Contributed'] = df_past3['Rounds Contributed'].str.replace('Rounds contributed\\n', '')"
      ]
    },
    {
      "cell_type": "code",
      "execution_count": 28,
      "metadata": {
        "id": "3eNShej0mjk3"
      },
      "outputs": [],
      "source": [
        "#combining scoreboard and past 3 months stats based on player\n",
        "df_withpast3 = merged_df.merge(df_past3, on=\"Player\", how=\"left\")\n",
        "df_withpast3 = df_withpast3.drop('Player Full Name', axis = 1)"
      ]
    },
    {
      "cell_type": "code",
      "execution_count": 29,
      "metadata": {
        "id": "zk-TFmuT7Vz_"
      },
      "outputs": [],
      "source": [
        "#cleaning df_all"
      ]
    },
    {
      "cell_type": "code",
      "execution_count": 30,
      "metadata": {
        "id": "4sVNA_1OtqLQ"
      },
      "outputs": [],
      "source": [
        "#fixing first 2 columns\n",
        "df_test = df_all[['Field1', 'Field2']]"
      ]
    },
    {
      "cell_type": "code",
      "execution_count": 31,
      "metadata": {
        "id": "Mw5RkMYctw5M"
      },
      "outputs": [],
      "source": [
        "# Create an index for the new DataFrame\n",
        "new_index = range(len(df_test) // 2)\n",
        "\n",
        "# Split the values in column 2 into two columns in the new DataFrame\n",
        "df_12 = pd.DataFrame({'Field1': df_test['Field2'][::2].values, 'Field2': df_test['Field2'][1::2].values}, index=new_index)\n",
        "df_12 = df_12.rename(columns={\"Field1\": \"Rounds played\", \"Field2\": \"Total kills\"})"
      ]
    },
    {
      "cell_type": "code",
      "execution_count": 32,
      "metadata": {
        "id": "m3JqiNx2vCrn"
      },
      "outputs": [],
      "source": [
        "#fixing next 2 columns\n",
        "df_test1 = df_all[['Field3', 'Time']]"
      ]
    },
    {
      "cell_type": "code",
      "execution_count": 33,
      "metadata": {
        "id": "a4rSNqKWvVF0"
      },
      "outputs": [],
      "source": [
        "new_index = range(len(df_test1) // 2)\n",
        "df_13 = pd.DataFrame({'Field3': df_test1['Time'][::2].values, 'Time': df_test1['Time'][1::2].values}, index=new_index)\n",
        "df_13 = df_13.rename(columns={\"Field3\": \"Headshot %\", \"Time\": \"Kills / round\"})"
      ]
    },
    {
      "cell_type": "code",
      "execution_count": 34,
      "metadata": {
        "id": "E4-_EQw_vqkK"
      },
      "outputs": [],
      "source": [
        "#fixing Field4\tField5\n",
        "df_test2 = df_all[['Field4', 'Field5']]"
      ]
    },
    {
      "cell_type": "code",
      "execution_count": 35,
      "metadata": {
        "id": "42YAGoEIvxRZ"
      },
      "outputs": [],
      "source": [
        "new_index = range(len(df_test2) // 2)\n",
        "df_13 = pd.DataFrame({'Field4': df_test2['Field5'][::2].values, 'Field5': df_test2['Field5'][1::2].values}, index=new_index)\n",
        "df_13 = df_13.rename(columns={\"Field4\": \"Total deaths\", \"Field5\": \"Assists / round\"})"
      ]
    },
    {
      "cell_type": "code",
      "execution_count": 36,
      "metadata": {
        "id": "NaqFsTevv_oO"
      },
      "outputs": [],
      "source": [
        "#fixing Field6\tTime1\n",
        "df_test3 = df_all[['Field6', 'Time1']]\n",
        "new_index = range(len(df_test3) // 2)\n",
        "df_14 = pd.DataFrame({'Field6': df_test3['Time1'][::2].values, 'Time1': df_test3['Time1'][1::2].values}, index=new_index)\n",
        "df_14 = df_14.rename(columns={\"Field6\": \"KD ratio\", \"Time1\": \"Deaths / round\"})"
      ]
    },
    {
      "cell_type": "code",
      "execution_count": 37,
      "metadata": {
        "id": "imhEJZ9lwTy6"
      },
      "outputs": [],
      "source": [
        "#fixing Field7\tTime2\n",
        "df_test4 = df_all[['Field7', 'Time2']]\n",
        "new_index = range(len(df_test4) // 2)\n",
        "df_15 = pd.DataFrame({'Field7': df_test4['Time2'][::2].values, 'Time2': df_test4['Time2'][1::2].values}, index=new_index)\n",
        "df_15 = df_15.rename(columns={\"Field7\": \"Damage / round\", \"Time2\": \"Saved by teammate / round\"})"
      ]
    },
    {
      "cell_type": "code",
      "execution_count": 38,
      "metadata": {
        "id": "fIGXKyWiwozH"
      },
      "outputs": [],
      "source": [
        "#fixing Field8\tTime3\n",
        "df_test5 = df_all[['Field8', 'Time3']]\n",
        "new_index = range(len(df_test5) // 2)\n",
        "df_16 = pd.DataFrame({'Field8': df_test5['Time3'][::2].values, 'Time3': df_test5['Time3'][1::2].values}, index=new_index)\n",
        "df_16 = df_16.rename(columns={\"Field8\": \"Grenade dmg / round\", \"Time3\": \"Saved teammate / round\"})"
      ]
    },
    {
      "cell_type": "code",
      "execution_count": 39,
      "metadata": {
        "id": "1i7fGma9xNAV"
      },
      "outputs": [],
      "source": [
        "#fixing Field9\tField10\n",
        "df_test6 = df_all[['Field9', 'Field10']]\n",
        "new_index = range(len(df_test6) // 2)\n",
        "df_17 = pd.DataFrame({'Field9': df_test6['Field10'][::2].values, 'Field10': df_test6['Field10'][1::2].values}, index=new_index)\n",
        "df_17 = df_17.rename(columns={\"Field9\": \"Maps Played\", \"Field10\": \"Rating 1.0\"})"
      ]
    },
    {
      "cell_type": "code",
      "execution_count": 40,
      "metadata": {
        "id": "wZmjL0GqxdQH"
      },
      "outputs": [],
      "source": [
        "dataframes = [df_12, df_13, df_14, df_15, df_16, df_17]\n",
        "df_fixed = pd.concat(dataframes, axis=1)"
      ]
    },
    {
      "cell_type": "code",
      "execution_count": 41,
      "metadata": {
        "id": "Vs5cAEB6UmE0"
      },
      "outputs": [],
      "source": [
        "#combining the dataframes"
      ]
    },
    {
      "cell_type": "code",
      "execution_count": 42,
      "metadata": {
        "id": "ev8hd9x1x1hq"
      },
      "outputs": [],
      "source": [
        "df_all = df_all.rename(columns={'Text': 'Player'})"
      ]
    },
    {
      "cell_type": "code",
      "execution_count": 43,
      "metadata": {
        "id": "9N-ox6bezEgP"
      },
      "outputs": [],
      "source": [
        "df_all = df_all[['Player']]"
      ]
    },
    {
      "cell_type": "code",
      "execution_count": 44,
      "metadata": {
        "id": "q_G02AUI1EV8"
      },
      "outputs": [],
      "source": [
        "df_all = df_all.iloc[::2]"
      ]
    },
    {
      "cell_type": "code",
      "execution_count": 45,
      "metadata": {
        "id": "sTGCsG0W1jaI"
      },
      "outputs": [],
      "source": [
        "df_all.reset_index(drop=True, inplace=True)"
      ]
    },
    {
      "cell_type": "code",
      "execution_count": 46,
      "metadata": {
        "id": "cUip_Dnr1JmT"
      },
      "outputs": [],
      "source": [
        "result = pd.concat([df_all, df_fixed], axis=1)"
      ]
    },
    {
      "cell_type": "code",
      "execution_count": 47,
      "metadata": {
        "id": "36bPjnX4ZlDm"
      },
      "outputs": [],
      "source": [
        "result.drop_duplicates(subset=['Player'], keep='first', inplace=True)"
      ]
    },
    {
      "cell_type": "code",
      "execution_count": 48,
      "metadata": {
        "id": "Y5au7ufs2cM1"
      },
      "outputs": [],
      "source": [
        "#combining the final 2 dataframes"
      ]
    },
    {
      "cell_type": "code",
      "execution_count": 49,
      "metadata": {
        "id": "xUoSBrAhZYIm"
      },
      "outputs": [],
      "source": [
        "df_final = pd.merge(df_withpast3, result, on=\"Player\", how=\"left\")\n"
      ]
    },
    {
      "cell_type": "code",
      "execution_count": 50,
      "metadata": {
        "id": "o0Z8BuKxf-Xp"
      },
      "outputs": [],
      "source": [
        "df_final = df_final.fillna(0)"
      ]
    },
    {
      "cell_type": "code",
      "execution_count": 51,
      "metadata": {
        "id": "y4qeE5rBpfAC"
      },
      "outputs": [],
      "source": [
        "df_final['Score'] = df_final['Score'].astype(int)"
      ]
    },
    {
      "cell_type": "code",
      "execution_count": 53,
      "metadata": {
        "id": "S3vUECG0JDth"
      },
      "outputs": [],
      "source": [
        "df_finals = df_final.iloc[::5]"
      ]
    },
    {
      "cell_type": "code",
      "execution_count": 54,
      "metadata": {
        "colab": {
          "base_uri": "https://localhost:8080/"
        },
        "id": "MKvD7BcHaHZg",
        "outputId": "07d90bd2-ee63-4c2a-fda9-c516aa93a587"
      },
      "outputs": [
        {
          "name": "stderr",
          "output_type": "stream",
          "text": [
            "C:\\Users\\james\\AppData\\Local\\Temp\\ipykernel_17396\\3353182524.py:1: SettingWithCopyWarning: \n",
            "A value is trying to be set on a copy of a slice from a DataFrame.\n",
            "Try using .loc[row_indexer,col_indexer] = value instead\n",
            "\n",
            "See the caveats in the documentation: https://pandas.pydata.org/pandas-docs/stable/user_guide/indexing.html#returning-a-view-versus-a-copy\n",
            "  df_finals['Score'] = pd.to_numeric(df_finals['Score'], errors='coerce')\n",
            "C:\\Users\\james\\AppData\\Local\\Temp\\ipykernel_17396\\3353182524.py:5: SettingWithCopyWarning: \n",
            "A value is trying to be set on a copy of a slice from a DataFrame.\n",
            "Try using .loc[row_indexer,col_indexer] = value instead\n",
            "\n",
            "See the caveats in the documentation: https://pandas.pydata.org/pandas-docs/stable/user_guide/indexing.html#returning-a-view-versus-a-copy\n",
            "  df_finals['Result'] = 0  # Initialize the 'Result' column with zeros\n"
          ]
        }
      ],
      "source": [
        "df_finals['Score'] = pd.to_numeric(df_finals['Score'], errors='coerce')\n",
        "\n",
        "df_finals.reset_index(drop=True, inplace=True)\n",
        "\n",
        "df_finals['Result'] = 0  # Initialize the 'Result' column with zeros\n",
        "\n",
        "num_rows = len(df_finals)\n",
        "\n",
        "for i in range(0, num_rows - 1, 2):  # Iterate over each pair of rows\n",
        "    if df_finals.loc[i, 'Score'] > df_finals.loc[i + 1, 'Score']:\n",
        "        df_finals.at[i, 'Result'] = 1\n",
        "    elif df_finals.loc[i, 'Score'] < df_finals.loc[i + 1, 'Score']:\n",
        "        df_finals.at[i + 1, 'Result'] = 1"
      ]
    },
    {
      "cell_type": "code",
      "execution_count": 55,
      "metadata": {
        "id": "Br5g3lsxfSZw"
      },
      "outputs": [],
      "source": [
        "result_col = df_finals[['Result']]"
      ]
    },
    {
      "cell_type": "code",
      "execution_count": 56,
      "metadata": {
        "id": "Sr7ubjGjgBww"
      },
      "outputs": [],
      "source": [
        "result_col_duplicated = result_col.loc[result_col.index.repeat(5)].reset_index(drop=True)"
      ]
    },
    {
      "cell_type": "code",
      "execution_count": 58,
      "metadata": {
        "id": "d6r9Dw7bgR9F"
      },
      "outputs": [],
      "source": [
        "df_final = pd.concat([df_final, result_col_duplicated], axis=1)"
      ]
    },
    {
      "cell_type": "code",
      "execution_count": 59,
      "metadata": {
        "id": "5d7Rj6Rfhiwp"
      },
      "outputs": [],
      "source": [
        "df_final = df_final.drop(columns=['Score'])"
      ]
    },
    {
      "cell_type": "code",
      "execution_count": 60,
      "metadata": {
        "id": "n3oCwaR5S3RB"
      },
      "outputs": [],
      "source": [
        "count_ones = (df_final['Result'] == 1).sum()"
      ]
    },
    {
      "cell_type": "code",
      "execution_count": 61,
      "metadata": {
        "id": "f7qSAhGF0gM7"
      },
      "outputs": [],
      "source": [
        "df_final.to_csv('readyforML2.csv', index=False)"
      ]
    },
    {
      "cell_type": "code",
      "execution_count": 36,
      "metadata": {},
      "outputs": [],
      "source": [
        "df = pd.read_csv('readyforML2.csv')\n",
        "df1 = pd.read_csv('New Stats - Sheet1.csv')\n",
        "df2 = pd.read_csv('2nd new data - Sheet1.csv')\n",
        "df3 = pd.read_csv('3rd new data - Sheet1.csv')"
      ]
    },
    {
      "cell_type": "code",
      "execution_count": null,
      "metadata": {},
      "outputs": [],
      "source": [
        "df_25 = df2.drop(['Field1'], axis=1, errors='ignore')\n",
        "# Extract string and numeric portions into separate columns\n",
        "df2[['Metric', 'Value']] = df2['Field1'].str.extract(r'(.+)\\n(.+)')\n",
        "# Convert the 'Value' column to numeric, handling percentages\n",
        "df2['Value'] = pd.to_numeric(df2['Value'].str.rstrip('%'), errors='coerce')\n",
        "df2 = df2[['Text', 'Metric', 'Value']]\n",
        "# Aggregate duplicate entries by taking the mean\n",
        "df2 = df2.groupby(['Text', 'Metric']).mean().reset_index()\n",
        "# Pivot the DataFrame to have metrics as columns\n",
        "result_df2 = df2.pivot(index='Text', columns='Metric', values='Value')\n",
        "result_df2 = result_df2.reset_index()\n",
        "result_df2.rename(columns={'Text': 'Player'}, inplace=True)\n",
        "result_df2.columns.name = None\n",
        "\n",
        "df_35 = df3.drop(['Field1'], axis=1, errors='ignore')\n",
        "\n",
        "# Extract string and numeric portions into separate columns\n",
        "df3[['Metric', 'Value']] = df3['Field1'].str.extract(r'(.+)\\n(.+)')\n",
        "\n",
        "# Convert the 'Value' column to numeric, handling percentages\n",
        "df3['Value'] = pd.to_numeric(df3['Value'].str.rstrip('%'), errors='coerce')\n",
        "df3 = df3[['Text', 'Metric', 'Value']]\n",
        "# Aggregate duplicate entries by taking the mean\n",
        "df3 = df3.groupby(['Text', 'Metric']).mean().reset_index()\n",
        "\n",
        "# Pivot the DataFrame to have metrics as columns\n",
        "result_df3 = df3.pivot(index='Text', columns='Metric', values='Value')\n",
        "result_df3 = result_df3.reset_index()\n",
        "result_df3.rename(columns={'Text': 'Player'}, inplace=True)\n",
        "result_df3.columns.name = None\n",
        "df_15 = df1.drop(['Field1'], axis=1, errors='ignore')\n",
        "# Extract string and numeric portions into separate columns\n",
        "df1[['Metric', 'Value']] = df1['Field1'].str.extract(r'(.+)\\n(.+)')\n",
        "\n",
        "# Convert the 'Value' column to numeric, handling percentages\n",
        "df1['Value'] = pd.to_numeric(df1['Value'].str.rstrip('%'), errors='coerce')\n",
        "df1 = df1[['Text', 'Metric', 'Value']]\n",
        "# Aggregate duplicate entries by taking the mean\n",
        "df1 = df1.groupby(['Text', 'Metric']).mean().reset_index()\n",
        "\n",
        "# Pivot the DataFrame to have metrics as columns\n",
        "result_df = df1.pivot(index='Text', columns='Metric', values='Value')\n",
        "result_df = result_df.reset_index()\n",
        "result_df.rename(columns={'Text': 'Player'}, inplace=True)\n",
        "result_df.columns.name = None\n",
        "df_15 = df_15.dropna()\n",
        "df_15 = df_15[df_15['Field2'].str.contains(r'\\d')]\n",
        "\n",
        "\n",
        "df_15 = df_15.groupby('Text').apply(lambda x: pd.Series(x['Field2'].to_list())).unstack()\n",
        "\n",
        "# Rename the columns\n",
        "df_15.columns = [f'Column_{i+1}' for i in range(len(df_15.columns))]\n",
        "\n",
        "# Reset index\n",
        "df_15.reset_index(inplace=True)\n",
        "columns_to_keep = ['Text', 'Column_1', 'Column_2', 'Column_3', 'Column_4']\n",
        "df_15 = df_15[columns_to_keep]\n",
        "df_15.rename(columns={'Text': 'Player',\n",
        "                      'Column_1': 'Rating All Time',\n",
        "                      'Column_2': 'Rating Online',\n",
        "                      'Column_3': 'LAN Rating',\n",
        "                      'Column_4': 'Major Rating'}, inplace=True)\n",
        "df_15 = df_15.fillna(0)\n",
        "\n",
        "df_15 = df_15.astype(str)\n",
        "\n",
        "# Extract numbers within parentheses and create new columns\n",
        "pattern = re.compile(r'\\((\\d+(\\.\\d+)?)\\)')\n",
        "for col in df_15.columns[1:]:\n",
        "    df_15[col + ' Parentheses'] = df_15[col].apply(lambda x: float(pattern.search(x).group(1)) if pattern.search(x) else 0)\n",
        "\n",
        "# Remove parentheses from the original columns\n",
        "df_15 = df_15.replace(to_replace=r'\\((\\d+(\\.\\d+)?)\\)', value='', regex=True)\n",
        "\n",
        "df_15 = df_15.rename(columns={\n",
        "    'Rating All Time Parentheses': 'All Time Maps Played',\n",
        "    'Rating Online Parentheses': 'Online Maps Played',\n",
        "    'LAN Rating Parentheses': 'Lan Maps Played',\n",
        "    'Major Rating Parentheses': 'Major Maps Played'\n",
        "})\n",
        "df_25 = df_25.dropna()\n",
        "df_25 = df_25[df_25['Field2'].str.contains(r'\\d')]\n",
        "\n",
        "\n",
        "df_25 = df_25.groupby('Text').apply(lambda x: pd.Series(x['Field2'].to_list())).unstack()\n",
        "\n",
        "# Rename the columns\n",
        "df_25.columns = [f'Column_{i+1}' for i in range(len(df_25.columns))]\n",
        "\n",
        "# Reset index\n",
        "df_25.reset_index(inplace=True)\n",
        "columns_to_keep = ['Text', 'Column_1', 'Column_2', 'Column_3', 'Column_4']\n",
        "df_25 = df_25[columns_to_keep]\n",
        "df_25.rename(columns={'Text': 'Player',\n",
        "                      'Column_1': 'Rating All Time',\n",
        "                      'Column_2': 'Rating Online',\n",
        "                      'Column_3': 'LAN Rating',\n",
        "                      'Column_4': 'Major Rating'}, inplace=True)\n",
        "df_25 = df_25.fillna(0)\n",
        "\n",
        "df_25 = df_25.astype(str)\n",
        "\n",
        "# Extract numbers within parentheses and create new columns\n",
        "pattern = re.compile(r'\\((\\d+(\\.\\d+)?)\\)')\n",
        "for col in df_25.columns[1:]:\n",
        "    df_25[col + ' Parentheses'] = df_25[col].apply(lambda x: float(pattern.search(x).group(1)) if pattern.search(x) else 0)\n",
        "\n",
        "# Remove parentheses from the original columns\n",
        "df_25 = df_25.replace(to_replace=r'\\((\\d+(\\.\\d+)?)\\)', value='', regex=True)\n",
        "\n",
        "df_25 = df_25.rename(columns={\n",
        "    'Rating All Time Parentheses': 'All Time Maps Played',\n",
        "    'Rating Online Parentheses': 'Online Maps Played',\n",
        "    'LAN Rating Parentheses': 'Lan Maps Played',\n",
        "    'Major Rating Parentheses': 'Major Maps Played'\n",
        "})\n",
        "df_35 = df_35.dropna()\n",
        "df_35 = df_35[df_35['Field2'].str.contains(r'\\d')]\n",
        "\n",
        "\n",
        "df_35 = df_35.groupby('Text').apply(lambda x: pd.Series(x['Field2'].to_list())).unstack()\n",
        "\n",
        "# Rename the columns\n",
        "df_35.columns = [f'Column_{i+1}' for i in range(len(df_35.columns))]\n",
        "\n",
        "# Reset index\n",
        "df_35.reset_index(inplace=True)\n",
        "columns_to_keep = ['Text', 'Column_1', 'Column_2', 'Column_3', 'Column_4']\n",
        "df_35 = df_35[columns_to_keep]\n",
        "df_35.rename(columns={'Text': 'Player',\n",
        "                      'Column_1': 'Rating All Time',\n",
        "                      'Column_2': 'Rating Online',\n",
        "                      'Column_3': 'LAN Rating',\n",
        "                      'Column_4': 'Major Rating'}, inplace=True)\n",
        "df_35 = df_35.fillna(0)\n",
        "\n",
        "df_35 = df_35.astype(str)\n",
        "\n",
        "# Extract numbers within parentheses and create new columns\n",
        "pattern = re.compile(r'\\((\\d+(\\.\\d+)?)\\)')\n",
        "for col in df_35.columns[1:]:\n",
        "    df_35[col + ' Parentheses'] = df_35[col].apply(lambda x: float(pattern.search(x).group(1)) if pattern.search(x) else 0)\n",
        "\n",
        "# Remove parentheses from the original columns\n",
        "df_35 = df_35.replace(to_replace=r'\\((\\d+(\\.\\d+)?)\\)', value='', regex=True)\n",
        "\n",
        "df_35 = df_35.rename(columns={\n",
        "    'Rating All Time Parentheses': 'All Time Maps Played',\n",
        "    'Rating Online Parentheses': 'Online Maps Played',\n",
        "    'LAN Rating Parentheses': 'Lan Maps Played',\n",
        "    'Major Rating Parentheses': 'Major Maps Played'\n",
        "})\n",
        "result_df4 = pd.concat([result_df, result_df2, result_df3], ignore_index=True)\n",
        "result_df4 = result_df4.drop_duplicates(subset='Player', keep='first')\n",
        "df = pd.merge(df, result_df4, on='Player', how='left')\n",
        "df_finalmerge = pd.concat([df_15, df_25, df_35], ignore_index=True)\n",
        "df_finalmerge = df_finalmerge.drop_duplicates(subset='Player', keep='first')\n",
        "df = pd.merge(df, df_finalmerge, on='Player', how='left')\n",
        "df\n",
        "rows_with_nan = df[df.isna().any(axis=1)]\n",
        "\n",
        "print(rows_with_nan)\n",
        "df.info()\n",
        "df['Matches Won'] = df.groupby('Player')['Result'].transform('sum')\n",
        "df['Matches Lost'] = df.groupby('Player')['Result'].transform(lambda x: (x == 0).sum())\n",
        "df['Team Matches Won'] = df.groupby('Team')['Result'].transform('sum')\n",
        "df['Team Matches Lost'] = df.groupby('Team')['Result'].transform(lambda x: (x == 0).sum())\n",
        "df['Player/Team Matches Won'] = df.groupby(['Player', 'Team'])['Result'].transform('sum')\n",
        "df['Player/Team Matches Lost'] = df.groupby(['Player', 'Team'])['Result'].transform(lambda x: (x == 0).sum())\n",
        "df['Match Number'] = np.ceil((df.index + 1) / 10).astype(int)\n",
        "df['Rating All Time'] = pd.to_numeric(df['Rating All Time'], errors='coerce')\n",
        "df['Rating Online'] = pd.to_numeric(df['Rating Online'], errors='coerce')\n",
        "df['LAN Rating'] = pd.to_numeric(df['LAN Rating'], errors='coerce')\n",
        "df['Major Rating'] = pd.to_numeric(df['Major Rating'], errors='coerce')\n",
        "df['HS'] = df['HS'].str.replace('%', '').astype(float)\n",
        "df['Rounds Contributed'] = df['Rounds Contributed'].str.replace('%', '').astype(float)"
      ]
    },
    {
      "cell_type": "code",
      "execution_count": 39,
      "metadata": {},
      "outputs": [],
      "source": [
        "#columns used for machine learning\n",
        "df.columns\n",
        "df['KAST'] = df['KAST'].str.replace('%', '')\n",
        "\n",
        "df['KAST'] = df['KAST'].astype(float)\n",
        "df.fillna(0, inplace=True)\n",
        "cat_df = df[['Team','Player']].copy()\n",
        "cont_df = df[['KD Diff', 'ADR', 'KAST', 'Rating', 'Kills', 'Deaths',\n",
        "       'Rating 2.0', 'KPR', 'HS', 'Maps Played_x', 'DPR', 'Rounds Contributed',\n",
        "       'Rounds played', 'Total kills', 'Total deaths', 'Assists / round',\n",
        "       'KD ratio', 'Deaths / round', 'Damage / round',\n",
        "       'Saved by teammate / round', 'Grenade dmg / round',\n",
        "       'Saved teammate / round', 'Maps Played_y', 'Rating 1.0', 'First kill in won rounds', 'Opening kill rating', 'Opening kill ratio',\n",
        "       'Team win percent after first kill', 'Total opening deaths',\n",
        "       'Total opening kills', 'Rating All Time', 'Rating Online', 'LAN Rating',\n",
        "       'Major Rating', 'All Time Maps Played', 'Online Maps Played',\n",
        "       'Lan Maps Played', 'Major Maps Played', 'Matches Won', 'Matches Lost',\n",
        "       'Team Matches Won', 'Team Matches Lost', 'Player/Team Matches Won',\n",
        "       'Player/Team Matches Lost', 'Match Number','Result']].copy()"
      ]
    }
  ],
  "metadata": {
    "colab": {
      "provenance": []
    },
    "kernelspec": {
      "display_name": "Python 3",
      "name": "python3"
    },
    "language_info": {
      "codemirror_mode": {
        "name": "ipython",
        "version": 3
      },
      "file_extension": ".py",
      "mimetype": "text/x-python",
      "name": "python",
      "nbconvert_exporter": "python",
      "pygments_lexer": "ipython3",
      "version": "3.11.7"
    }
  },
  "nbformat": 4,
  "nbformat_minor": 0
}
